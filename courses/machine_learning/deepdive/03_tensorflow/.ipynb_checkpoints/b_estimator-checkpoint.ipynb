{
 "cells": [
  {
   "cell_type": "markdown",
   "metadata": {},
   "source": [
    "<h1>2b. Machine Learning using tf.estimator </h1>\n",
    "\n",
    "In this notebook, we will create a machine learning model using tf.estimator and evaluate its performance.  The dataset is rather small (7700 samples), so we can do it all in-memory.  We will also simply pass the raw data in as-is. "
   ]
  },
  {
   "cell_type": "code",
   "execution_count": 1,
   "metadata": {},
   "outputs": [
    {
     "name": "stdout",
     "output_type": "stream",
     "text": [
      "google-cloud-bigquery Version: 1.5.0\n"
     ]
    },
    {
     "name": "stderr",
     "output_type": "stream",
     "text": [
      "/usr/lib/python3.6/site-packages/h5py/__init__.py:36: FutureWarning: Conversion of the second argument of issubdtype from `float` to `np.floating` is deprecated. In future, it will be treated as `np.float64 == np.dtype(float).type`.\n",
      "  from ._conv import register_converters as _register_converters\n"
     ]
    }
   ],
   "source": [
    "# import datalab.bigquery as bq\n",
    "from google.cloud import bigquery as bq\n",
    "import tensorflow as tf\n",
    "import pandas as pd\n",
    "import numpy as np\n",
    "import shutil\n",
    "\n",
    "# print('Tensorflow Version:',tf.__version__)\n",
    "print('google-cloud-bigquery Version:',bq.__version__)"
   ]
  },
  {
   "cell_type": "code",
   "execution_count": 2,
   "metadata": {},
   "outputs": [
    {
     "name": "stderr",
     "output_type": "stream",
     "text": [
      "/usr/lib/python3.6/site-packages/google/auth/_default.py:66: UserWarning: Your application has authenticated using end user credentials from Google Cloud SDK. We recommend that most server applications use service accounts instead. If your application continues to use end user credentials from Cloud SDK, you might receive a \"quota exceeded\" or \"API not enabled\" error. For more information about service accounts, see https://cloud.google.com/docs/authentication/.\n",
      "  warnings.warn(_CLOUD_SDK_CREDENTIALS_WARNING)\n",
      "/usr/lib/python3.6/site-packages/google/auth/_default.py:66: UserWarning: Your application has authenticated using end user credentials from Google Cloud SDK. We recommend that most server applications use service accounts instead. If your application continues to use end user credentials from Cloud SDK, you might receive a \"quota exceeded\" or \"API not enabled\" error. For more information about service accounts, see https://cloud.google.com/docs/authentication/.\n",
      "  warnings.warn(_CLOUD_SDK_CREDENTIALS_WARNING)\n"
     ]
    }
   ],
   "source": [
    "client = bq.Client()"
   ]
  },
  {
   "cell_type": "markdown",
   "metadata": {},
   "source": [
    "Read data created in the previous chapter."
   ]
  },
  {
   "cell_type": "code",
   "execution_count": 3,
   "metadata": {},
   "outputs": [],
   "source": [
    "# In CSV, label is the first column, after the features, followed by the key\n",
    "CSV_COLUMNS = ['fare_amount', 'pickuplon','pickuplat','dropofflon','dropofflat','passengers', 'key']\n",
    "FEATURES = CSV_COLUMNS[1:len(CSV_COLUMNS) - 1]\n",
    "LABEL = CSV_COLUMNS[0]\n",
    "\n",
    "df_train = pd.read_csv('./taxi-train.csv', header = None, names = CSV_COLUMNS)\n",
    "df_valid = pd.read_csv('./taxi-valid.csv', header = None, names = CSV_COLUMNS)"
   ]
  },
  {
   "cell_type": "code",
   "execution_count": 4,
   "metadata": {},
   "outputs": [
    {
     "data": {
      "text/html": [
       "<div>\n",
       "<style scoped>\n",
       "    .dataframe tbody tr th:only-of-type {\n",
       "        vertical-align: middle;\n",
       "    }\n",
       "\n",
       "    .dataframe tbody tr th {\n",
       "        vertical-align: top;\n",
       "    }\n",
       "\n",
       "    .dataframe thead th {\n",
       "        text-align: right;\n",
       "    }\n",
       "</style>\n",
       "<table border=\"1\" class=\"dataframe\">\n",
       "  <thead>\n",
       "    <tr style=\"text-align: right;\">\n",
       "      <th></th>\n",
       "      <th>fare_amount</th>\n",
       "      <th>pickuplon</th>\n",
       "      <th>pickuplat</th>\n",
       "      <th>dropofflon</th>\n",
       "      <th>dropofflat</th>\n",
       "      <th>passengers</th>\n",
       "      <th>key</th>\n",
       "    </tr>\n",
       "  </thead>\n",
       "  <tbody>\n",
       "    <tr>\n",
       "      <th>0</th>\n",
       "      <td>12.0</td>\n",
       "      <td>-73.987625</td>\n",
       "      <td>40.750617</td>\n",
       "      <td>-73.971163</td>\n",
       "      <td>40.785180</td>\n",
       "      <td>1</td>\n",
       "      <td>0</td>\n",
       "    </tr>\n",
       "    <tr>\n",
       "      <th>1</th>\n",
       "      <td>4.5</td>\n",
       "      <td>-73.963620</td>\n",
       "      <td>40.774363</td>\n",
       "      <td>-73.953485</td>\n",
       "      <td>40.772665</td>\n",
       "      <td>1</td>\n",
       "      <td>1</td>\n",
       "    </tr>\n",
       "    <tr>\n",
       "      <th>2</th>\n",
       "      <td>4.5</td>\n",
       "      <td>-73.989649</td>\n",
       "      <td>40.756633</td>\n",
       "      <td>-73.985597</td>\n",
       "      <td>40.765662</td>\n",
       "      <td>1</td>\n",
       "      <td>2</td>\n",
       "    </tr>\n",
       "    <tr>\n",
       "      <th>3</th>\n",
       "      <td>10.0</td>\n",
       "      <td>-73.993950</td>\n",
       "      <td>40.727524</td>\n",
       "      <td>-74.006584</td>\n",
       "      <td>40.744240</td>\n",
       "      <td>1</td>\n",
       "      <td>3</td>\n",
       "    </tr>\n",
       "    <tr>\n",
       "      <th>4</th>\n",
       "      <td>2.5</td>\n",
       "      <td>-73.950223</td>\n",
       "      <td>40.668960</td>\n",
       "      <td>-73.948112</td>\n",
       "      <td>40.668872</td>\n",
       "      <td>6</td>\n",
       "      <td>4</td>\n",
       "    </tr>\n",
       "  </tbody>\n",
       "</table>\n",
       "</div>"
      ],
      "text/plain": [
       "   fare_amount  pickuplon  pickuplat  dropofflon  dropofflat  passengers  key\n",
       "0         12.0 -73.987625  40.750617  -73.971163   40.785180           1    0\n",
       "1          4.5 -73.963620  40.774363  -73.953485   40.772665           1    1\n",
       "2          4.5 -73.989649  40.756633  -73.985597   40.765662           1    2\n",
       "3         10.0 -73.993950  40.727524  -74.006584   40.744240           1    3\n",
       "4          2.5 -73.950223  40.668960  -73.948112   40.668872           6    4"
      ]
     },
     "execution_count": 4,
     "metadata": {},
     "output_type": "execute_result"
    }
   ],
   "source": [
    "df_train.head()"
   ]
  },
  {
   "cell_type": "code",
   "execution_count": 5,
   "metadata": {},
   "outputs": [
    {
     "data": {
      "text/plain": [
       "['fare_amount',\n",
       " 'pickuplon',\n",
       " 'pickuplat',\n",
       " 'dropofflon',\n",
       " 'dropofflat',\n",
       " 'passengers',\n",
       " 'key']"
      ]
     },
     "execution_count": 5,
     "metadata": {},
     "output_type": "execute_result"
    }
   ],
   "source": [
    "df_train.columns.tolist()"
   ]
  },
  {
   "cell_type": "code",
   "execution_count": 6,
   "metadata": {},
   "outputs": [
    {
     "data": {
      "text/plain": [
       "['pickuplon', 'pickuplat', 'dropofflon', 'dropofflat', 'passengers']"
      ]
     },
     "execution_count": 6,
     "metadata": {},
     "output_type": "execute_result"
    }
   ],
   "source": [
    "FEATURES"
   ]
  },
  {
   "cell_type": "markdown",
   "metadata": {},
   "source": [
    "<h2> Input function to read from Pandas Dataframe </h2>"
   ]
  },
  {
   "cell_type": "code",
   "execution_count": 7,
   "metadata": {},
   "outputs": [],
   "source": [
    "def make_input_fn(df, num_epochs):\n",
    "    return tf.estimator.inputs.pandas_input_fn(\n",
    "            x = df,\n",
    "            y = df[LABEL],\n",
    "            batch_size = 128,\n",
    "            num_epochs = num_epochs,\n",
    "            shuffle = True,\n",
    "            queue_capacity = 1000,\n",
    "            num_threads = 1\n",
    "          )"
   ]
  },
  {
   "cell_type": "code",
   "execution_count": 8,
   "metadata": {},
   "outputs": [
    {
     "data": {
      "text/plain": [
       "<function tensorflow.python.estimator.inputs.pandas_io.pandas_input_fn.<locals>.input_fn()>"
      ]
     },
     "execution_count": 8,
     "metadata": {},
     "output_type": "execute_result"
    }
   ],
   "source": [
    "make_input_fn(df_train, num_epochs = 10)"
   ]
  },
  {
   "cell_type": "markdown",
   "metadata": {},
   "source": [
    "### Create feature columns for estimator"
   ]
  },
  {
   "cell_type": "code",
   "execution_count": 9,
   "metadata": {},
   "outputs": [],
   "source": [
    "def make_feature_cols():\n",
    "    input_columns = [tf.feature_column.numeric_column(k) for k in FEATURES]\n",
    "    return input_columns"
   ]
  },
  {
   "cell_type": "code",
   "execution_count": 10,
   "metadata": {},
   "outputs": [
    {
     "data": {
      "text/plain": [
       "[_NumericColumn(key='pickuplon', shape=(1,), default_value=None, dtype=tf.float32, normalizer_fn=None),\n",
       " _NumericColumn(key='pickuplat', shape=(1,), default_value=None, dtype=tf.float32, normalizer_fn=None),\n",
       " _NumericColumn(key='dropofflon', shape=(1,), default_value=None, dtype=tf.float32, normalizer_fn=None),\n",
       " _NumericColumn(key='dropofflat', shape=(1,), default_value=None, dtype=tf.float32, normalizer_fn=None),\n",
       " _NumericColumn(key='passengers', shape=(1,), default_value=None, dtype=tf.float32, normalizer_fn=None)]"
      ]
     },
     "execution_count": 10,
     "metadata": {},
     "output_type": "execute_result"
    }
   ],
   "source": [
    "make_feature_cols()"
   ]
  },
  {
   "cell_type": "markdown",
   "metadata": {},
   "source": [
    "<h3> Linear Regression with tf.Estimator framework </h3>"
   ]
  },
  {
   "cell_type": "code",
   "execution_count": 18,
   "metadata": {},
   "outputs": [
    {
     "name": "stdout",
     "output_type": "stream",
     "text": [
      "INFO:tensorflow:Using default config.\n",
      "INFO:tensorflow:Using config: {'_model_dir': 'taxi_trained', '_tf_random_seed': None, '_save_summary_steps': 100, '_save_checkpoints_steps': None, '_save_checkpoints_secs': 600, '_session_config': None, '_keep_checkpoint_max': 5, '_keep_checkpoint_every_n_hours': 10000, '_log_step_count_steps': 100, '_train_distribute': None, '_device_fn': None, '_service': None, '_cluster_spec': <tensorflow.python.training.server_lib.ClusterSpec object at 0x7f01e87bf080>, '_task_type': 'worker', '_task_id': 0, '_global_id_in_cluster': 0, '_master': '', '_evaluation_master': '', '_is_chief': True, '_num_ps_replicas': 0, '_num_worker_replicas': 1}\n",
      "INFO:tensorflow:Calling model_fn.\n",
      "INFO:tensorflow:Done calling model_fn.\n",
      "INFO:tensorflow:Create CheckpointSaverHook.\n",
      "INFO:tensorflow:Graph was finalized.\n",
      "INFO:tensorflow:Running local_init_op.\n",
      "INFO:tensorflow:Done running local_init_op.\n",
      "INFO:tensorflow:Saving checkpoints for 0 into taxi_trained/model.ckpt.\n",
      "INFO:tensorflow:loss = 32544.354, step = 1\n",
      "INFO:tensorflow:global_step/sec: 573.155\n",
      "INFO:tensorflow:loss = 7892.4004, step = 101 (0.176 sec)\n",
      "INFO:tensorflow:global_step/sec: 618.761\n",
      "INFO:tensorflow:loss = 9239.336, step = 201 (0.162 sec)\n",
      "INFO:tensorflow:global_step/sec: 622.205\n",
      "INFO:tensorflow:loss = 6663.7993, step = 301 (0.161 sec)\n",
      "INFO:tensorflow:global_step/sec: 649.932\n",
      "INFO:tensorflow:loss = 12795.512, step = 401 (0.154 sec)\n",
      "INFO:tensorflow:global_step/sec: 643.219\n",
      "INFO:tensorflow:loss = 8547.102, step = 501 (0.156 sec)\n",
      "INFO:tensorflow:global_step/sec: 461.447\n",
      "INFO:tensorflow:loss = 12889.504, step = 601 (0.216 sec)\n",
      "INFO:tensorflow:Saving checkpoints for 608 into taxi_trained/model.ckpt.\n",
      "INFO:tensorflow:Loss for final step: 34.94335.\n"
     ]
    },
    {
     "data": {
      "text/plain": [
       "<tensorflow.python.estimator.canned.linear.LinearRegressor at 0x7f01e87bf630>"
      ]
     },
     "execution_count": 18,
     "metadata": {},
     "output_type": "execute_result"
    }
   ],
   "source": [
    "tf.logging.set_verbosity(tf.logging.INFO)\n",
    "# tf.logging.set_verbosity(tf.logging.WARN)\n",
    "\n",
    "OUTDIR = 'taxi_trained'\n",
    "shutil.rmtree(OUTDIR, ignore_errors = True) # Delete an entire directory tree, and thus start fresh each time\n",
    "# 也就是说'taxi_trained' directory 每次都会被删掉\n",
    "\n",
    "model = tf.estimator.LinearRegressor(\n",
    "      feature_columns = make_feature_cols(), model_dir = OUTDIR)\n",
    "\n",
    "model.train(input_fn = make_input_fn(df_train, num_epochs = 10))"
   ]
  },
  {
   "cell_type": "markdown",
   "metadata": {},
   "source": [
    "Evaluate on the validation data (we should defer using the test data to after we have selected a final model)."
   ]
  },
  {
   "cell_type": "code",
   "execution_count": 19,
   "metadata": {},
   "outputs": [
    {
     "name": "stdout",
     "output_type": "stream",
     "text": [
      "INFO:tensorflow:Calling model_fn.\n",
      "INFO:tensorflow:Done calling model_fn.\n",
      "INFO:tensorflow:Starting evaluation at 2018-08-14-14:55:38\n",
      "INFO:tensorflow:Graph was finalized.\n",
      "INFO:tensorflow:Restoring parameters from taxi_trained/model.ckpt-608\n",
      "INFO:tensorflow:Running local_init_op.\n",
      "INFO:tensorflow:Done running local_init_op.\n",
      "INFO:tensorflow:Finished evaluation at 2018-08-14-14:55:38\n",
      "INFO:tensorflow:Saving dict for global step 608: average_loss = 109.465164, global_step = 608, label/mean = 11.666427, loss = 13018.536, prediction/mean = 10.865052\n",
      "INFO:tensorflow:Saving 'checkpoint_path' summary for global step 608: taxi_trained/model.ckpt-608\n",
      "RMSE on validation dataset = 10.462559700012207\n"
     ]
    }
   ],
   "source": [
    "def print_rmse(model, name, df):\n",
    "    metrics = model.evaluate(input_fn = make_input_fn(df, 1))\n",
    "    print('RMSE on {} dataset = {}'.format(name, np.sqrt(metrics['average_loss'])))\n",
    "print_rmse(model, 'validation', df_valid)"
   ]
  },
  {
   "cell_type": "markdown",
   "metadata": {},
   "source": [
    "This is nowhere near our benchmark (RMSE of $6 or so on this data), but it serves to demonstrate what TensorFlow code looks like.  Let's use this model for prediction."
   ]
  },
  {
   "cell_type": "code",
   "execution_count": 21,
   "metadata": {},
   "outputs": [
    {
     "name": "stdout",
     "output_type": "stream",
     "text": [
      "INFO:tensorflow:Using default config.\n",
      "INFO:tensorflow:Using config: {'_model_dir': 'taxi_trained', '_tf_random_seed': None, '_save_summary_steps': 100, '_save_checkpoints_steps': None, '_save_checkpoints_secs': 600, '_session_config': None, '_keep_checkpoint_max': 5, '_keep_checkpoint_every_n_hours': 10000, '_log_step_count_steps': 100, '_train_distribute': None, '_device_fn': None, '_service': None, '_cluster_spec': <tensorflow.python.training.server_lib.ClusterSpec object at 0x7f01d3728b70>, '_task_type': 'worker', '_task_id': 0, '_global_id_in_cluster': 0, '_master': '', '_evaluation_master': '', '_is_chief': True, '_num_ps_replicas': 0, '_num_worker_replicas': 1}\n",
      "INFO:tensorflow:Calling model_fn.\n",
      "INFO:tensorflow:Done calling model_fn.\n",
      "INFO:tensorflow:Graph was finalized.\n",
      "INFO:tensorflow:Restoring parameters from taxi_trained/model.ckpt-608\n",
      "INFO:tensorflow:Running local_init_op.\n",
      "INFO:tensorflow:Done running local_init_op.\n",
      "\n",
      "Predictions:\n",
      " [10.88371, 10.822166, 10.818796, 10.822359, 10.821677]\n"
     ]
    }
   ],
   "source": [
    "import itertools\n",
    "# Read saved model and use it for prediction\n",
    "model = tf.estimator.LinearRegressor(\n",
    "      feature_columns = make_feature_cols(), model_dir = OUTDIR)\n",
    "preds_iter = model.predict(input_fn = make_input_fn(df_valid, 1))\n",
    "print('\\nPredictions:\\n',[pred['predictions'][0] for pred in list(itertools.islice(preds_iter, 5))])"
   ]
  },
  {
   "cell_type": "markdown",
   "metadata": {},
   "source": [
    "This explains why the RMSE was so high -- the model essentially predicts the same amount for every trip.  Would a more complex model help? Let's try using a deep neural network.  The code to do this is quite straightforward as well."
   ]
  },
  {
   "cell_type": "markdown",
   "metadata": {},
   "source": [
    "<h3> Deep Neural Network regression </h3>"
   ]
  },
  {
   "cell_type": "code",
   "execution_count": 10,
   "metadata": {},
   "outputs": [
    {
     "name": "stdout",
     "output_type": "stream",
     "text": [
      "INFO:tensorflow:Using default config.\n",
      "INFO:tensorflow:Using config: {'_model_dir': 'taxi_trained', '_tf_random_seed': None, '_save_summary_steps': 100, '_save_checkpoints_steps': None, '_save_checkpoints_secs': 600, '_session_config': None, '_keep_checkpoint_max': 5, '_keep_checkpoint_every_n_hours': 10000, '_log_step_count_steps': 100, '_train_distribute': None, '_service': None, '_cluster_spec': <tensorflow.python.training.server_lib.ClusterSpec object at 0x7efcd123f668>, '_task_type': 'worker', '_task_id': 0, '_global_id_in_cluster': 0, '_master': '', '_evaluation_master': '', '_is_chief': True, '_num_ps_replicas': 0, '_num_worker_replicas': 1}\n",
      "INFO:tensorflow:Calling model_fn.\n",
      "INFO:tensorflow:Done calling model_fn.\n",
      "INFO:tensorflow:Create CheckpointSaverHook.\n",
      "INFO:tensorflow:Graph was finalized.\n",
      "INFO:tensorflow:Running local_init_op.\n",
      "INFO:tensorflow:Done running local_init_op.\n",
      "INFO:tensorflow:Saving checkpoints for 1 into taxi_trained/model.ckpt.\n",
      "INFO:tensorflow:loss = 23465.031, step = 1\n",
      "INFO:tensorflow:global_step/sec: 569.377\n",
      "INFO:tensorflow:loss = 18367.71, step = 101 (0.177 sec)\n",
      "INFO:tensorflow:global_step/sec: 658.165\n",
      "INFO:tensorflow:loss = 20828.592, step = 201 (0.152 sec)\n",
      "INFO:tensorflow:global_step/sec: 650.569\n",
      "INFO:tensorflow:loss = 23309.309, step = 301 (0.154 sec)\n",
      "INFO:tensorflow:global_step/sec: 662.839\n",
      "INFO:tensorflow:loss = 21678.406, step = 401 (0.151 sec)\n",
      "INFO:tensorflow:global_step/sec: 658.948\n",
      "INFO:tensorflow:loss = 20979.176, step = 501 (0.152 sec)\n",
      "INFO:tensorflow:global_step/sec: 663.214\n",
      "INFO:tensorflow:loss = 26900.67, step = 601 (0.151 sec)\n",
      "INFO:tensorflow:global_step/sec: 658.675\n",
      "INFO:tensorflow:loss = 19545.896, step = 701 (0.152 sec)\n",
      "INFO:tensorflow:global_step/sec: 679.234\n",
      "INFO:tensorflow:loss = 19419.914, step = 801 (0.147 sec)\n",
      "INFO:tensorflow:global_step/sec: 654.618\n",
      "INFO:tensorflow:loss = 17561.045, step = 901 (0.153 sec)\n",
      "INFO:tensorflow:global_step/sec: 653.824\n",
      "INFO:tensorflow:loss = 15184.686, step = 1001 (0.153 sec)\n",
      "INFO:tensorflow:global_step/sec: 666.84\n",
      "INFO:tensorflow:loss = 17337.354, step = 1101 (0.149 sec)\n",
      "INFO:tensorflow:global_step/sec: 660.404\n",
      "INFO:tensorflow:loss = 15592.837, step = 1201 (0.153 sec)\n",
      "INFO:tensorflow:global_step/sec: 583.324\n",
      "INFO:tensorflow:loss = 19482.77, step = 1301 (0.172 sec)\n",
      "INFO:tensorflow:global_step/sec: 549.504\n",
      "INFO:tensorflow:loss = 16303.158, step = 1401 (0.181 sec)\n",
      "INFO:tensorflow:global_step/sec: 649.988\n",
      "INFO:tensorflow:loss = 10958.666, step = 1501 (0.154 sec)\n",
      "INFO:tensorflow:global_step/sec: 643.303\n",
      "INFO:tensorflow:loss = 19035.744, step = 1601 (0.156 sec)\n",
      "INFO:tensorflow:global_step/sec: 540.058\n",
      "INFO:tensorflow:loss = 10096.111, step = 1701 (0.186 sec)\n",
      "INFO:tensorflow:global_step/sec: 625.549\n",
      "INFO:tensorflow:loss = 15918.67, step = 1801 (0.159 sec)\n",
      "INFO:tensorflow:global_step/sec: 651.132\n",
      "INFO:tensorflow:loss = 14795.05, step = 1901 (0.153 sec)\n",
      "INFO:tensorflow:global_step/sec: 497.956\n",
      "INFO:tensorflow:loss = 10093.158, step = 2001 (0.201 sec)\n",
      "INFO:tensorflow:global_step/sec: 692.34\n",
      "INFO:tensorflow:loss = 12969.98, step = 2101 (0.145 sec)\n",
      "INFO:tensorflow:global_step/sec: 647.342\n",
      "INFO:tensorflow:loss = 10536.723, step = 2201 (0.154 sec)\n",
      "INFO:tensorflow:global_step/sec: 676.997\n",
      "INFO:tensorflow:loss = 19253.566, step = 2301 (0.148 sec)\n",
      "INFO:tensorflow:global_step/sec: 657.919\n",
      "INFO:tensorflow:loss = 18036.613, step = 2401 (0.152 sec)\n",
      "INFO:tensorflow:global_step/sec: 650.217\n",
      "INFO:tensorflow:loss = 21239.316, step = 2501 (0.154 sec)\n",
      "INFO:tensorflow:global_step/sec: 612.731\n",
      "INFO:tensorflow:loss = 12264.949, step = 2601 (0.163 sec)\n",
      "INFO:tensorflow:global_step/sec: 626.095\n",
      "INFO:tensorflow:loss = 11505.624, step = 2701 (0.159 sec)\n",
      "INFO:tensorflow:global_step/sec: 646.806\n",
      "INFO:tensorflow:loss = 18425.754, step = 2801 (0.155 sec)\n",
      "INFO:tensorflow:global_step/sec: 647.725\n",
      "INFO:tensorflow:loss = 19849.799, step = 2901 (0.154 sec)\n",
      "INFO:tensorflow:global_step/sec: 640.598\n",
      "INFO:tensorflow:loss = 11354.977, step = 3001 (0.156 sec)\n",
      "INFO:tensorflow:global_step/sec: 651.5\n",
      "INFO:tensorflow:loss = 11825.487, step = 3101 (0.154 sec)\n",
      "INFO:tensorflow:global_step/sec: 651.456\n",
      "INFO:tensorflow:loss = 10630.332, step = 3201 (0.153 sec)\n",
      "INFO:tensorflow:global_step/sec: 653.359\n",
      "INFO:tensorflow:loss = 19477.807, step = 3301 (0.153 sec)\n",
      "INFO:tensorflow:global_step/sec: 647.381\n",
      "INFO:tensorflow:loss = 7773.3853, step = 3401 (0.155 sec)\n",
      "INFO:tensorflow:global_step/sec: 667.606\n",
      "INFO:tensorflow:loss = 14238.909, step = 3501 (0.149 sec)\n",
      "INFO:tensorflow:global_step/sec: 657.26\n",
      "INFO:tensorflow:loss = 17235.344, step = 3601 (0.152 sec)\n",
      "INFO:tensorflow:global_step/sec: 654.789\n",
      "INFO:tensorflow:loss = 16211.442, step = 3701 (0.153 sec)\n",
      "INFO:tensorflow:global_step/sec: 602.562\n",
      "INFO:tensorflow:loss = 6953.2817, step = 3801 (0.166 sec)\n",
      "INFO:tensorflow:global_step/sec: 658.278\n",
      "INFO:tensorflow:loss = 16036.774, step = 3901 (0.151 sec)\n",
      "INFO:tensorflow:global_step/sec: 573.84\n",
      "INFO:tensorflow:loss = 14945.226, step = 4001 (0.174 sec)\n",
      "INFO:tensorflow:global_step/sec: 652.273\n",
      "INFO:tensorflow:loss = 11938.369, step = 4101 (0.153 sec)\n",
      "INFO:tensorflow:global_step/sec: 602.787\n",
      "INFO:tensorflow:loss = 10089.884, step = 4201 (0.165 sec)\n",
      "INFO:tensorflow:global_step/sec: 676.836\n",
      "INFO:tensorflow:loss = 15894.627, step = 4301 (0.149 sec)\n",
      "INFO:tensorflow:global_step/sec: 656.69\n",
      "INFO:tensorflow:loss = 14529.406, step = 4401 (0.152 sec)\n",
      "INFO:tensorflow:global_step/sec: 523.53\n",
      "INFO:tensorflow:loss = 9228.224, step = 4501 (0.191 sec)\n",
      "INFO:tensorflow:global_step/sec: 593.52\n",
      "INFO:tensorflow:loss = 21730.64, step = 4601 (0.168 sec)\n",
      "INFO:tensorflow:global_step/sec: 610.856\n",
      "INFO:tensorflow:loss = 5900.3906, step = 4701 (0.164 sec)\n",
      "INFO:tensorflow:global_step/sec: 527.199\n",
      "INFO:tensorflow:loss = 19464.457, step = 4801 (0.190 sec)\n",
      "INFO:tensorflow:global_step/sec: 601.031\n",
      "INFO:tensorflow:loss = 4409.0684, step = 4901 (0.166 sec)\n",
      "INFO:tensorflow:global_step/sec: 674.281\n",
      "INFO:tensorflow:loss = 13206.727, step = 5001 (0.148 sec)\n",
      "INFO:tensorflow:global_step/sec: 673.052\n",
      "INFO:tensorflow:loss = 11943.208, step = 5101 (0.149 sec)\n",
      "INFO:tensorflow:global_step/sec: 690.307\n",
      "INFO:tensorflow:loss = 12183.426, step = 5201 (0.145 sec)\n",
      "INFO:tensorflow:global_step/sec: 680.493\n",
      "INFO:tensorflow:loss = 11665.148, step = 5301 (0.148 sec)\n",
      "INFO:tensorflow:global_step/sec: 667.833\n",
      "INFO:tensorflow:loss = 13508.931, step = 5401 (0.148 sec)\n",
      "INFO:tensorflow:global_step/sec: 689.38\n",
      "INFO:tensorflow:loss = 11558.614, step = 5501 (0.144 sec)\n",
      "INFO:tensorflow:global_step/sec: 672.333\n",
      "INFO:tensorflow:loss = 16858.152, step = 5601 (0.150 sec)\n",
      "INFO:tensorflow:global_step/sec: 690.632\n",
      "INFO:tensorflow:loss = 11251.307, step = 5701 (0.145 sec)\n",
      "INFO:tensorflow:global_step/sec: 676.124\n",
      "INFO:tensorflow:loss = 9116.535, step = 5801 (0.148 sec)\n",
      "INFO:tensorflow:global_step/sec: 655.68\n",
      "INFO:tensorflow:loss = 17048.652, step = 5901 (0.152 sec)\n",
      "INFO:tensorflow:global_step/sec: 681.084\n",
      "INFO:tensorflow:loss = 9444.21, step = 6001 (0.148 sec)\n",
      "INFO:tensorflow:Saving checkpoints for 6071 into taxi_trained/model.ckpt.\n",
      "INFO:tensorflow:Loss for final step: 2911.6719.\n",
      "INFO:tensorflow:Calling model_fn.\n",
      "INFO:tensorflow:Done calling model_fn.\n",
      "INFO:tensorflow:Starting evaluation at 2018-08-14-11:02:26\n",
      "INFO:tensorflow:Graph was finalized.\n",
      "INFO:tensorflow:Restoring parameters from taxi_trained/model.ckpt-6071\n",
      "INFO:tensorflow:Running local_init_op.\n",
      "INFO:tensorflow:Done running local_init_op.\n",
      "INFO:tensorflow:Finished evaluation at 2018-08-14-11:02:26\n",
      "INFO:tensorflow:Saving dict for global step 6071: average_loss = 134.97003, global_step = 6071, loss = 16051.792\n",
      "RMSE on validation dataset = 11.617660522460938\n"
     ]
    }
   ],
   "source": [
    "tf.logging.set_verbosity(tf.logging.INFO)\n",
    "shutil.rmtree(OUTDIR, ignore_errors = True) # start fresh each time\n",
    "model = tf.estimator.DNNRegressor(hidden_units = [32, 8, 2],\n",
    "      feature_columns = make_feature_cols(), model_dir = OUTDIR)\n",
    "model.train(input_fn = make_input_fn(df_train, num_epochs = 100));\n",
    "print_rmse(model, 'validation', df_valid)"
   ]
  },
  {
   "cell_type": "markdown",
   "metadata": {},
   "source": [
    "We are not beating our benchmark with either model ... what's up?  Well, we may be using TensorFlow for Machine Learning, but we are not yet using it well.  That's what the rest of this course is about!\n",
    "\n",
    "But, for the record, let's say we had to choose between the two models. We'd choose the one with the lower validation error. Finally, we'd measure the RMSE on the test data with this chosen model."
   ]
  },
  {
   "cell_type": "markdown",
   "metadata": {},
   "source": [
    "<h2> Benchmark dataset </h2>\n",
    "\n",
    "Let's do this on the benchmark dataset."
   ]
  },
  {
   "cell_type": "code",
   "execution_count": 14,
   "metadata": {},
   "outputs": [
    {
     "ename": "AttributeError",
     "evalue": "module 'google.cloud.bigquery' has no attribute 'Query'",
     "output_type": "error",
     "traceback": [
      "\u001b[0;31m---------------------------------------------------------------------------\u001b[0m",
      "\u001b[0;31mAttributeError\u001b[0m                            Traceback (most recent call last)",
      "\u001b[0;32m<ipython-input-14-88cf203e5030>\u001b[0m in \u001b[0;36m<module>\u001b[0;34m()\u001b[0m\n\u001b[1;32m     48\u001b[0m \u001b[0;34m\u001b[0m\u001b[0m\n\u001b[1;32m     49\u001b[0m \u001b[0mquery\u001b[0m \u001b[0;34m=\u001b[0m \u001b[0mcreate_query\u001b[0m\u001b[0;34m(\u001b[0m\u001b[0;36m2\u001b[0m\u001b[0;34m,\u001b[0m \u001b[0;36m100000\u001b[0m\u001b[0;34m)\u001b[0m\u001b[0;34m\u001b[0m\u001b[0m\n\u001b[0;32m---> 50\u001b[0;31m \u001b[0mdf\u001b[0m \u001b[0;34m=\u001b[0m \u001b[0mbq\u001b[0m\u001b[0;34m.\u001b[0m\u001b[0mQuery\u001b[0m\u001b[0;34m(\u001b[0m\u001b[0mquery\u001b[0m\u001b[0;34m)\u001b[0m\u001b[0;34m.\u001b[0m\u001b[0mto_dataframe\u001b[0m\u001b[0;34m(\u001b[0m\u001b[0;34m)\u001b[0m\u001b[0;34m\u001b[0m\u001b[0m\n\u001b[0m",
      "\u001b[0;31mAttributeError\u001b[0m: module 'google.cloud.bigquery' has no attribute 'Query'"
     ]
    }
   ],
   "source": [
    "# import datalab.bigquery as bq\n",
    "import numpy as np\n",
    "import pandas as pd\n",
    "\n",
    "\n",
    "def create_query(phase, EVERY_N):\n",
    "    \"\"\"\n",
    "    phase: 1 = train 2 = valid\n",
    "    \"\"\"\n",
    "    base_query = \"\"\"\n",
    "    SELECT\n",
    "      (tolls_amount + fare_amount) AS fare_amount,\n",
    "      CONCAT(STRING(pickup_datetime), STRING(pickup_longitude), STRING(pickup_latitude), STRING(dropoff_latitude), STRING(dropoff_longitude)) AS key,\n",
    "      DAYOFWEEK(pickup_datetime)*1.0 AS dayofweek,\n",
    "      HOUR(pickup_datetime)*1.0 AS hourofday,\n",
    "      pickup_longitude AS pickuplon,\n",
    "      pickup_latitude AS pickuplat,\n",
    "      dropoff_longitude AS dropofflon,\n",
    "      dropoff_latitude AS dropofflat,\n",
    "      passenger_count*1.0 AS passengers,\n",
    "    FROM\n",
    "      [nyc-tlc:yellow.trips]\n",
    "    WHERE\n",
    "      trip_distance > 0\n",
    "      AND fare_amount >= 2.5\n",
    "      AND pickup_longitude > -78\n",
    "      AND pickup_longitude < -70\n",
    "      AND dropoff_longitude > -78\n",
    "      AND dropoff_longitude < -70\n",
    "      AND pickup_latitude > 37\n",
    "      AND pickup_latitude < 45\n",
    "      AND dropoff_latitude > 37\n",
    "      AND dropoff_latitude < 45\n",
    "      AND passenger_count > 0\n",
    "    \"\"\"\n",
    "\n",
    "    if EVERY_N == None:\n",
    "        if phase < 2:\n",
    "            # Training\n",
    "            query = \"{0} AND ABS(HASH(pickup_datetime)) % 4 < 2\".format(base_query)\n",
    "        else:\n",
    "            # Validation\n",
    "            query = \"{0} AND ABS(HASH(pickup_datetime)) % 4 == {1}\".format(base_query, phase)\n",
    "    else:\n",
    "        query = \"{0} AND ABS(HASH(pickup_datetime)) % {1} == {2}\".format(base_query, EVERY_N, phase)\n",
    "    \n",
    "    return query\n",
    "\n",
    "query = create_query(2, 100000)\n",
    "df = bq.Query(query).to_dataframe()"
   ]
  },
  {
   "cell_type": "code",
   "execution_count": 15,
   "metadata": {},
   "outputs": [
    {
     "ename": "NameError",
     "evalue": "name 'df' is not defined",
     "output_type": "error",
     "traceback": [
      "\u001b[0;31m---------------------------------------------------------------------------\u001b[0m",
      "\u001b[0;31mNameError\u001b[0m                                 Traceback (most recent call last)",
      "\u001b[0;32m<ipython-input-15-eb3516cac1d1>\u001b[0m in \u001b[0;36m<module>\u001b[0;34m()\u001b[0m\n\u001b[0;32m----> 1\u001b[0;31m \u001b[0mprint_rmse\u001b[0m\u001b[0;34m(\u001b[0m\u001b[0mmodel\u001b[0m\u001b[0;34m,\u001b[0m \u001b[0;34m'benchmark'\u001b[0m\u001b[0;34m,\u001b[0m \u001b[0mdf\u001b[0m\u001b[0;34m)\u001b[0m\u001b[0;34m\u001b[0m\u001b[0m\n\u001b[0m",
      "\u001b[0;31mNameError\u001b[0m: name 'df' is not defined"
     ]
    }
   ],
   "source": [
    "print_rmse(model, 'benchmark', df)"
   ]
  },
  {
   "cell_type": "markdown",
   "metadata": {},
   "source": [
    "RMSE on benchmark dataset is <b>9.41</b> (your results will vary because of random seeds).\n",
    "\n",
    "This is not only way more than our original benchmark of 6.00, but it doesn't even beat our distance-based rule's RMSE of 8.02.\n",
    "\n",
    "Fear not -- you have learned how to write a TensorFlow model, but not to do all the things that you will have to do to your ML model performant. We will do this in the next chapters. In this chapter though, we will get our TensorFlow model ready for these improvements.\n",
    "\n",
    "In a software sense, the rest of the labs in this chapter will be about refactoring the code so that we can improve it."
   ]
  },
  {
   "cell_type": "markdown",
   "metadata": {},
   "source": [
    "Copyright 2017 Google Inc. Licensed under the Apache License, Version 2.0 (the \"License\"); you may not use this file except in compliance with the License. You may obtain a copy of the License at http://www.apache.org/licenses/LICENSE-2.0 Unless required by applicable law or agreed to in writing, software distributed under the License is distributed on an \"AS IS\" BASIS, WITHOUT WARRANTIES OR CONDITIONS OF ANY KIND, either express or implied. See the License for the specific language governing permissions and limitations under the License"
   ]
  }
 ],
 "metadata": {
  "kernelspec": {
   "display_name": "Python 3",
   "language": "python",
   "name": "python3"
  },
  "language_info": {
   "codemirror_mode": {
    "name": "ipython",
    "version": 3
   },
   "file_extension": ".py",
   "mimetype": "text/x-python",
   "name": "python",
   "nbconvert_exporter": "python",
   "pygments_lexer": "ipython3",
   "version": "3.6.6"
  },
  "toc": {
   "base_numbering": 1,
   "nav_menu": {},
   "number_sections": true,
   "sideBar": true,
   "skip_h1_title": false,
   "title_cell": "Table of Contents",
   "title_sidebar": "Contents",
   "toc_cell": false,
   "toc_position": {
    "height": "calc(100% - 180px)",
    "left": "10px",
    "top": "150px",
    "width": "384px"
   },
   "toc_section_display": true,
   "toc_window_display": true
  }
 },
 "nbformat": 4,
 "nbformat_minor": 1
}
