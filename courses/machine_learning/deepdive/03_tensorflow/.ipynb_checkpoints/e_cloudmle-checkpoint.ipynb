{
 "cells": [
  {
   "cell_type": "code",
   "execution_count": 2,
   "metadata": {},
   "outputs": [
    {
     "data": {
      "text/plain": [
       "'/Users/huafengsheng/tensorflow/bin/python3'"
      ]
     },
     "execution_count": 2,
     "metadata": {},
     "output_type": "execute_result"
    }
   ],
   "source": [
    "import sys\n",
    "# check python running\n",
    "# Take a look at your kernelspec. The path for calling python will probably point to the wrong environment.\n",
    "sys.executable"
   ]
  },
  {
   "cell_type": "code",
   "execution_count": 3,
   "metadata": {},
   "outputs": [
    {
     "data": {
      "text/plain": [
       "'3.6.1 (v3.6.1:69c0db5050, Mar 21 2017, 01:21:04) \\n[GCC 4.2.1 (Apple Inc. build 5666) (dot 3)]'"
      ]
     },
     "execution_count": 3,
     "metadata": {},
     "output_type": "execute_result"
    }
   ],
   "source": [
    "# check python version\n",
    "sys.version"
   ]
  },
  {
   "cell_type": "code",
   "execution_count": 4,
   "metadata": {},
   "outputs": [],
   "source": [
    "import tensorflow as tf"
   ]
  },
  {
   "cell_type": "code",
   "execution_count": 6,
   "metadata": {},
   "outputs": [
    {
     "ename": "TypeError",
     "evalue": "add() missing 2 required positional arguments: 'x' and 'y'",
     "output_type": "error",
     "traceback": [
      "\u001b[0;31m---------------------------------------------------------------------------\u001b[0m",
      "\u001b[0;31mTypeError\u001b[0m                                 Traceback (most recent call last)",
      "\u001b[0;32m<ipython-input-6-9a1812ff712f>\u001b[0m in \u001b[0;36m<module>\u001b[0;34m()\u001b[0m\n\u001b[0;32m----> 1\u001b[0;31m \u001b[0mtf\u001b[0m\u001b[0;34m.\u001b[0m\u001b[0madd\u001b[0m\u001b[0;34m(\u001b[0m\u001b[0;34m)\u001b[0m\u001b[0;34m\u001b[0m\u001b[0m\n\u001b[0m",
      "\u001b[0;31mTypeError\u001b[0m: add() missing 2 required positional arguments: 'x' and 'y'"
     ]
    }
   ],
   "source": [
    "tf.add()"
   ]
  },
  {
   "cell_type": "markdown",
   "metadata": {},
   "source": [
    "<h1> Scaling up ML using Cloud ML Engine </h1>\n",
    "\n",
    "In this notebook, we take a previously developed TensorFlow model to predict taxifare rides and package it up so that it can be run in Cloud MLE. For now, we'll run this on a small dataset. The model that was developed is rather simplistic, and therefore, the accuracy of the model is not great either.  However, this notebook illustrates *how* to package up a TensorFlow model to run it within Cloud ML. \n",
    "\n",
    "Later in the course, we will look at ways to make a more effective machine learning model."
   ]
  },
  {
   "cell_type": "markdown",
   "metadata": {},
   "source": [
    "<h2> Environment variables for project and bucket </h2>\n",
    "\n",
    "Note that:\n",
    "<ol>\n",
    "<li> Your project id is the *unique* string that identifies your project (not the project name). You can find this from the GCP Console dashboard's Home page.  My dashboard reads:  <b>Project ID:</b> cloud-training-demos </li>\n",
    "<li> Cloud training often involves saving and restoring model files. If you don't have a bucket already, I suggest that you create one from the GCP console (because it will dynamically check whether the bucket name you want is available). A common pattern is to prefix the **bucket name** by the project id, so that it is unique. Also, for cost reasons, you might want to use a single region bucket. </li>\n",
    "</ol>\n",
    "<b>Change the cell below</b> to reflect your Project ID and bucket name.\n"
   ]
  },
  {
   "cell_type": "code",
   "execution_count": 7,
   "metadata": {},
   "outputs": [
    {
     "data": {
      "text/plain": [
       "['',\n",
       " '/Users/huafengsheng/tensorflow/lib/python36.zip',\n",
       " '/Users/huafengsheng/tensorflow/lib/python3.6',\n",
       " '/Users/huafengsheng/tensorflow/lib/python3.6/lib-dynload',\n",
       " '/Library/Frameworks/Python.framework/Versions/3.6/lib/python3.6',\n",
       " '/Users/huafengsheng/tensorflow/lib/python3.6/site-packages',\n",
       " '/Library/Frameworks/Python.framework/Versions/3.6/lib/python3.6/site-packages',\n",
       " '/Library/Frameworks/Python.framework/Versions/3.6/lib/python3.6/site-packages/six-1.11.0-py3.6.egg',\n",
       " '/Users/huafengsheng/tensorflow/lib/python3.6/site-packages/IPython/extensions',\n",
       " '/Users/huafengsheng/.ipython']"
      ]
     },
     "execution_count": 7,
     "metadata": {},
     "output_type": "execute_result"
    }
   ],
   "source": [
    "import sys\n",
    "sys.path"
   ]
  },
  {
   "cell_type": "code",
   "execution_count": 8,
   "metadata": {},
   "outputs": [],
   "source": [
    "import os\n",
    "PROJECT = 'cloudiq-treepie-development' # REPLACE WITH YOUR PROJECT ID\n",
    "BUCKET = 'chet-ml-model' # REPLACE WIHT YOUR BUCKET NAME\n",
    "REGION = 'europe-west1' # REPLACE WITH YOUR BUCKET REGION e.g. us-central1"
   ]
  },
  {
   "cell_type": "code",
   "execution_count": 9,
   "metadata": {},
   "outputs": [],
   "source": [
    "# for bash\n",
    "os.environ['PROJECT'] = PROJECT\n",
    "os.environ['BUCKET'] = BUCKET\n",
    "os.environ['REGION'] = REGION\n",
    "os.environ['TFVERSION'] = '1.4'  # Tensorflow version"
   ]
  },
  {
   "cell_type": "code",
   "execution_count": 10,
   "metadata": {},
   "outputs": [
    {
     "name": "stderr",
     "output_type": "stream",
     "text": [
      "Updated property [core/project].\n",
      "Updated property [compute/region].\n"
     ]
    }
   ],
   "source": [
    "%%bash\n",
    "gcloud config set project $PROJECT\n",
    "gcloud config set compute/region $REGION"
   ]
  },
  {
   "cell_type": "markdown",
   "metadata": {},
   "source": [
    "Allow the Cloud ML Engine service account to read/write to the bucket containing training data."
   ]
  },
  {
   "cell_type": "code",
   "execution_count": 11,
   "metadata": {},
   "outputs": [
    {
     "name": "stdout",
     "output_type": "stream",
     "text": [
      "Authorizing the Cloud ML Service account service-422847983564@cloud-ml.google.com.iam.gserviceaccount.com to access files in chet-ml-model\n"
     ]
    },
    {
     "name": "stderr",
     "output_type": "stream",
     "text": [
      "  % Total    % Received % Xferd  Average Speed   Time    Time     Time  Current\n",
      "                                 Dload  Upload   Total   Spent    Left  Speed\n",
      "\r",
      "  0     0    0     0    0     0      0      0 --:--:-- --:--:-- --:--:--     0\r",
      "100   235    0   235    0     0    240      0 --:--:-- --:--:-- --:--:--   240\r",
      "100   235    0   235    0     0    240      0 --:--:-- --:--:-- --:--:--   240\n",
      "No changes to gs://chet-ml-model/\n",
      "No changes to gs://chet-ml-model/lab3a_180819_185246/49d4d10e6a2aac0be1ea5b4a2f893d560e5fb33020f1234af1fc93b78bf7b4a8/taxifare-0.1.tar.gz\n",
      "No changes to gs://chet-ml-model/lab3a_180822_140634/0cd06233f1477f639508ae11a404a2849271cc0c9866fc8d00c7ddefa9a38b0d/taxifare-0.1.tar.gz\n",
      "No changes to gs://chet-ml-model/taxifare/smallinput/taxi-test.csv\n",
      "No changes to gs://chet-ml-model/taxifare/smallinput/taxi-train.csv\n",
      "No changes to gs://chet-ml-model/taxifare/smallinput/taxi-valid.csv\n",
      "Updated ACL on gs://chet-ml-model/taxifare/smallinput/taxi_trained/\n",
      "Updated ACL on gs://chet-ml-model/taxifare/smallinput/taxi_trained/eval/\n",
      "Updated ACL on gs://chet-ml-model/taxifare/smallinput/taxi_trained/checkpoint\n",
      "Updated ACL on gs://chet-ml-model/taxifare/smallinput/taxi_trained/export/\n",
      "Updated ACL on gs://chet-ml-model/taxifare/smallinput/taxi_trained/events.out.tfevents.1534946895.cmle-training-18220998377938481331\n",
      "Updated ACL on gs://chet-ml-model/taxifare/smallinput/taxi_trained/eval/events.out.tfevents.1534946903.cmle-training-18220998377938481331\n",
      "Updated ACL on gs://chet-ml-model/taxifare/smallinput/taxi_trained/export/exporter/1534946903/\n",
      "Updated ACL on gs://chet-ml-model/taxifare/smallinput/taxi_trained/export/exporter/\n",
      "Updated ACL on gs://chet-ml-model/taxifare/smallinput/taxi_trained/export/exporter/1534946903/saved_model.pb\n",
      "Updated ACL on gs://chet-ml-model/taxifare/smallinput/taxi_trained/export/exporter/1534946903/variables/\n",
      "Updated ACL on gs://chet-ml-model/taxifare/smallinput/taxi_trained/export/exporter/1534946903/variables/variables.data-00000-of-00001\n",
      "Updated ACL on gs://chet-ml-model/taxifare/smallinput/taxi_trained/export/exporter/1534946903/variables/variables.index\n",
      "Updated ACL on gs://chet-ml-model/taxifare/smallinput/taxi_trained/export/exporter/1534947476/saved_model.pb\n",
      "Updated ACL on gs://chet-ml-model/taxifare/smallinput/taxi_trained/export/exporter/1534947476/\n",
      "Updated ACL on gs://chet-ml-model/taxifare/smallinput/taxi_trained/export/exporter/1534947476/variables/\n",
      "Updated ACL on gs://chet-ml-model/taxifare/smallinput/taxi_trained/export/exporter/1534947476/variables/variables.data-00000-of-00001\n",
      "Updated ACL on gs://chet-ml-model/taxifare/smallinput/taxi_trained/export/exporter/1534947476/variables/variables.index\n",
      "Updated ACL on gs://chet-ml-model/taxifare/smallinput/taxi_trained/model.ckpt-1.index\n",
      "Updated ACL on gs://chet-ml-model/taxifare/smallinput/taxi_trained/model.ckpt-1.data-00000-of-00001\n",
      "Updated ACL on gs://chet-ml-model/taxifare/smallinput/taxi_trained/graph.pbtxt\n",
      "Updated ACL on gs://chet-ml-model/taxifare/smallinput/taxi_trained/model.ckpt-1.meta\n",
      "Updated ACL on gs://chet-ml-model/taxifare/smallinput/taxi_trained/model.ckpt-10000.data-00000-of-00001\n",
      "Updated ACL on gs://chet-ml-model/taxifare/smallinput/taxi_trained/model.ckpt-10000.index\n",
      "Updated ACL on gs://chet-ml-model/taxifare/smallinput/taxi_trained/model.ckpt-10000.meta\n",
      "No changes to gs://chet-ml-model/\n"
     ]
    }
   ],
   "source": [
    "%%bash\n",
    "PROJECT_ID=$PROJECT\n",
    "AUTH_TOKEN=$(gcloud auth print-access-token)\n",
    "SVC_ACCOUNT=$(curl -X GET -H \"Content-Type: application/json\" \\\n",
    "    -H \"Authorization: Bearer $AUTH_TOKEN\" \\\n",
    "    https://ml.googleapis.com/v1/projects/${PROJECT_ID}:getConfig \\\n",
    "    | python -c \"import json; import sys; response = json.load(sys.stdin); \\\n",
    "    print(response['serviceAccount'])\")\n",
    "\n",
    "echo \"Authorizing the Cloud ML Service account $SVC_ACCOUNT to access files in $BUCKET\"\n",
    "gsutil -m defacl ch -u $SVC_ACCOUNT:R gs://$BUCKET\n",
    "\n",
    "        gsutil -m acl ch -u $SVC_ACCOUNT:R -r gs://$BUCKET  # error message (if bucket is empty) can be ignored\n",
    "gsutil -m acl ch -u $SVC_ACCOUNT:W gs://$BUCKET"
   ]
  },
  {
   "cell_type": "markdown",
   "metadata": {},
   "source": [
    "<h2> Packaging up the code </h2>\n",
    "\n",
    "Take your code and put into a standard Python package structure.  <a href=\"taxifare/trainer/model.py\">model.py</a> and <a href=\"taxifare/trainer/task.py\">task.py</a> contain the Tensorflow code from earlier (explore the <a href=\"taxifare/trainer/\">directory structure</a>)."
   ]
  },
  {
   "cell_type": "code",
   "execution_count": 12,
   "metadata": {},
   "outputs": [
    {
     "name": "stdout",
     "output_type": "stream",
     "text": [
      "taxifare\r\n",
      "taxifare/PKG-INFO\r\n",
      "taxifare/trainer.egg-info\r\n",
      "taxifare/trainer.egg-info/PKG-INFO\r\n",
      "taxifare/trainer.egg-info/SOURCES.txt\r\n",
      "taxifare/trainer.egg-info/top_level.txt\r\n",
      "taxifare/trainer.egg-info/dependency_links.txt\r\n",
      "taxifare/setup.py\r\n",
      "taxifare/setup.cfg\r\n",
      "taxifare/trainer\r\n",
      "taxifare/trainer/task.py\r\n",
      "taxifare/trainer/model.pyc\r\n",
      "taxifare/trainer/__init__.py\r\n",
      "taxifare/trainer/__pycache__\r\n",
      "taxifare/trainer/__pycache__/model.cpython-36.pyc\r\n",
      "taxifare/trainer/__pycache__/task.cpython-36.pyc\r\n",
      "taxifare/trainer/__pycache__/__init__.cpython-36.pyc\r\n",
      "taxifare/trainer/model.py\r\n",
      "taxifare/trainer/__init__.pyc\r\n"
     ]
    }
   ],
   "source": [
    "!find taxifare"
   ]
  },
  {
   "cell_type": "code",
   "execution_count": 13,
   "metadata": {},
   "outputs": [
    {
     "name": "stdout",
     "output_type": "stream",
     "text": [
      "#!/usr/bin/env python\r\n",
      "\r\n",
      "# Copyright 2017 Google Inc. All Rights Reserved.\r\n",
      "#\r\n",
      "# Licensed under the Apache License, Version 2.0 (the \"License\");\r\n",
      "# you may not use this file except in compliance with the License.\r\n",
      "# You may obtain a copy of the License at\r\n",
      "#\r\n",
      "#      http://www.apache.org/licenses/LICENSE-2.0\r\n",
      "#\r\n",
      "# Unless required by applicable law or agreed to in writing, software\r\n",
      "# distributed under the License is distributed on an \"AS IS\" BASIS,\r\n",
      "# WITHOUT WARRANTIES OR CONDITIONS OF ANY KIND, either express or implied.\r\n",
      "# See the License for the specific language governing permissions and\r\n",
      "# limitations under the License.\r\n",
      "\r\n",
      "from __future__ import absolute_import\r\n",
      "from __future__ import division\r\n",
      "from __future__ import print_function\r\n",
      "\r\n",
      "import tensorflow as tf\r\n",
      "import numpy as np\r\n",
      "import shutil\r\n",
      "\r\n",
      "tf.logging.set_verbosity(tf.logging.INFO)\r\n",
      "\r\n",
      "# List the CSV columns\r\n",
      "CSV_COLUMNS = ['fare_amount', 'pickuplon','pickuplat','dropofflon','dropofflat','passengers', 'key']\r\n",
      "\r\n",
      "#Choose which column is your label\r\n",
      "LABEL_COLUMN = 'fare_amount'\r\n",
      "\r\n",
      "# Set the default values for each CSV column in case there is a missing value\r\n",
      "DEFAULTS = [[0.0], [-74.0], [40.0], [-74.0], [40.7], [1.0], ['nokey']]\r\n",
      "\r\n",
      "# Create an input function that stores your data into a dataset\r\n",
      "def read_dataset(filename, mode, batch_size = 512):\r\n",
      "    def _input_fn():\r\n",
      "        def decode_csv(value_column):\r\n",
      "            columns = tf.decode_csv(value_column, record_defaults = DEFAULTS)\r\n",
      "            features = dict(zip(CSV_COLUMNS, columns))\r\n",
      "            label = features.pop(LABEL_COLUMN)\r\n",
      "            return features, label\r\n",
      "    \r\n",
      "        # Create list of files that match pattern\r\n",
      "        file_list = tf.gfile.Glob(filename)\r\n",
      "\r\n",
      "        # Create dataset from file list\r\n",
      "        dataset = tf.data.TextLineDataset(file_list).map(decode_csv)\r\n",
      "        \r\n",
      "        if mode == tf.estimator.ModeKeys.TRAIN:\r\n",
      "            num_epochs = None # indefinitely\r\n",
      "            dataset = dataset.shuffle(buffer_size = 10 * batch_size)\r\n",
      "        else:\r\n",
      "            num_epochs = 1 # end-of-input after this\r\n",
      "\r\n",
      "        dataset = dataset.repeat(num_epochs).batch(batch_size)\r\n",
      "        return dataset.make_one_shot_iterator().get_next()\r\n",
      "    return _input_fn\r\n",
      "\r\n",
      "# Define your feature columns\r\n",
      "INPUT_COLUMNS = [\r\n",
      "    tf.feature_column.numeric_column('pickuplon'),\r\n",
      "    tf.feature_column.numeric_column('pickuplat'),\r\n",
      "    tf.feature_column.numeric_column('dropofflat'),\r\n",
      "    tf.feature_column.numeric_column('dropofflon'),\r\n",
      "    tf.feature_column.numeric_column('passengers'),\r\n",
      "]\r\n",
      "\r\n",
      "# Create a function that will augment your feature set\r\n",
      "def add_more_features(feats):\r\n",
      "    # Nothing to add (yet!)\r\n",
      "    return feats\r\n",
      "\r\n",
      "feature_cols = add_more_features(INPUT_COLUMNS)\r\n",
      "\r\n",
      "# Create your serving input function so that your trained model will be able to serve predictions\r\n",
      "def serving_input_fn():\r\n",
      "    feature_placeholders = {\r\n",
      "        column.name: tf.placeholder(tf.float32, [None]) for column in INPUT_COLUMNS\r\n",
      "    }\r\n",
      "    features = {\r\n",
      "        key: tf.expand_dims(tensor, -1)\r\n",
      "        for key, tensor in feature_placeholders.items()\r\n",
      "    }\r\n",
      "    return tf.estimator.export.ServingInputReceiver(features, feature_placeholders)\r\n",
      "\r\n",
      "# Create an estimator that we are going to train and evaluate\r\n",
      "def train_and_evaluate(args):\r\n",
      "    estimator = tf.estimator.DNNRegressor(\r\n",
      "        model_dir = args['output_dir'],\r\n",
      "        feature_columns = feature_cols,\r\n",
      "        hidden_units = args['hidden_units'])\r\n",
      "    train_spec = tf.estimator.TrainSpec(\r\n",
      "        input_fn = read_dataset(args['train_data_paths'],\r\n",
      "                                batch_size = args['train_batch_size'],\r\n",
      "                                mode = tf.estimator.ModeKeys.TRAIN),\r\n",
      "        max_steps = args['train_steps'])\r\n",
      "    exporter = tf.estimator.LatestExporter('exporter', serving_input_fn)\r\n",
      "    eval_spec = tf.estimator.EvalSpec(\r\n",
      "        input_fn = read_dataset(args['eval_data_paths'],\r\n",
      "                                batch_size = 10000,\r\n",
      "                                mode = tf.estimator.ModeKeys.EVAL),\r\n",
      "        steps = None,\r\n",
      "        start_delay_secs = args['eval_delay_secs'],\r\n",
      "        throttle_secs = args['min_eval_frequency'],\r\n",
      "        exporters = exporter)\r\n",
      "    tf.estimator.train_and_evaluate(estimator, train_spec, eval_spec)"
     ]
    }
   ],
   "source": [
    "!cat taxifare/trainer/model.py"
   ]
  },
  {
   "cell_type": "markdown",
   "metadata": {},
   "source": [
    "<h2> Find absolute paths to your data </h2>"
   ]
  },
  {
   "cell_type": "markdown",
   "metadata": {},
   "source": [
    "Note the absolute paths below. /content is mapped in Datalab to where the home icon takes you"
   ]
  },
  {
   "cell_type": "code",
   "execution_count": 14,
   "metadata": {},
   "outputs": [
    {
     "name": "stdout",
     "output_type": "stream",
     "text": [
      "/Users/huafengsheng/GitHub/training-data-analyst/courses/machine_learning/deepdive/03_tensorflow\n",
      "12.0,-73.987625,40.750617,-73.971163,40.78518,1,0\n",
      "6.0,-74.013667,40.713935,-74.007627,40.702992,2,0\n"
     ]
    }
   ],
   "source": [
    "%%bash\n",
    "echo $PWD\n",
    "rm -rf $PWD/taxi_trained\n",
    "head -1 $PWD/taxi-train.csv\n",
    "head -1 $PWD/taxi-valid.csv"
   ]
  },
  {
   "cell_type": "markdown",
   "metadata": {},
   "source": [
    "<h2> Running the Python module from the command-line </h2>"
   ]
  },
  {
   "cell_type": "code",
   "execution_count": 15,
   "metadata": {},
   "outputs": [],
   "source": [
    "# from google.datalab.ml import TensorBoard\n",
    "# TensorBoard().start('./taxi_trained')"
   ]
  },
  {
   "cell_type": "code",
   "execution_count": 16,
   "metadata": {},
   "outputs": [
    {
     "name": "stderr",
     "output_type": "stream",
     "text": [
      "INFO:tensorflow:Using default config.\n",
      "INFO:tensorflow:Using config: {'_model_dir': '/Users/huafengsheng/GitHub/training-data-analyst/courses/machine_learning/deepdive/03_tensorflow/taxi_trained', '_tf_random_seed': None, '_save_summary_steps': 100, '_save_checkpoints_steps': None, '_save_checkpoints_secs': 600, '_session_config': None, '_keep_checkpoint_max': 5, '_keep_checkpoint_every_n_hours': 10000, '_log_step_count_steps': 100, '_train_distribute': None, '_device_fn': None, '_service': None, '_cluster_spec': <tensorflow.python.training.server_lib.ClusterSpec object at 0x120488d68>, '_task_type': 'worker', '_task_id': 0, '_global_id_in_cluster': 0, '_master': '', '_evaluation_master': '', '_is_chief': True, '_num_ps_replicas': 0, '_num_worker_replicas': 1}\n",
      "INFO:tensorflow:Running training and evaluation locally (non-distributed).\n",
      "INFO:tensorflow:Start train and evaluate loop. The evaluate will happen after every checkpoint. Checkpoint frequency is determined based on RunConfig arguments: save_checkpoints_steps None or save_checkpoints_secs 600.\n",
      "INFO:tensorflow:Calling model_fn.\n",
      "INFO:tensorflow:Done calling model_fn.\n",
      "INFO:tensorflow:Create CheckpointSaverHook.\n",
      "INFO:tensorflow:Graph was finalized.\n",
      "2018-08-22 22:53:17.533625: I tensorflow/core/platform/cpu_feature_guard.cc:141] Your CPU supports instructions that this TensorFlow binary was not compiled to use: AVX2 FMA\n",
      "INFO:tensorflow:Running local_init_op.\n",
      "INFO:tensorflow:Done running local_init_op.\n",
      "INFO:tensorflow:Saving checkpoints for 0 into /Users/huafengsheng/GitHub/training-data-analyst/courses/machine_learning/deepdive/03_tensorflow/taxi_trained/model.ckpt.\n",
      "INFO:tensorflow:loss = 318598.88, step = 1\n",
      "INFO:tensorflow:global_step/sec: 63.0046\n",
      "INFO:tensorflow:loss = 104715.38, step = 101 (1.587 sec)\n",
      "INFO:tensorflow:global_step/sec: 60.182\n",
      "INFO:tensorflow:loss = 88838.17, step = 201 (1.662 sec)\n",
      "INFO:tensorflow:global_step/sec: 68.1223\n",
      "INFO:tensorflow:loss = 82347.81, step = 301 (1.468 sec)\n",
      "INFO:tensorflow:global_step/sec: 60.4561\n",
      "INFO:tensorflow:loss = 88590.64, step = 401 (1.654 sec)\n",
      "INFO:tensorflow:global_step/sec: 62.519\n",
      "INFO:tensorflow:loss = 91197.945, step = 501 (1.600 sec)\n",
      "INFO:tensorflow:global_step/sec: 62.7503\n",
      "INFO:tensorflow:loss = 86386.055, step = 601 (1.593 sec)\n",
      "INFO:tensorflow:global_step/sec: 62.7017\n",
      "INFO:tensorflow:loss = 103167.47, step = 701 (1.595 sec)\n",
      "INFO:tensorflow:global_step/sec: 67.6097\n",
      "INFO:tensorflow:loss = 74196.53, step = 801 (1.479 sec)\n",
      "INFO:tensorflow:global_step/sec: 59.9685\n",
      "INFO:tensorflow:loss = 86465.64, step = 901 (1.668 sec)\n",
      "INFO:tensorflow:Saving checkpoints for 1000 into /Users/huafengsheng/GitHub/training-data-analyst/courses/machine_learning/deepdive/03_tensorflow/taxi_trained/model.ckpt.\n",
      "INFO:tensorflow:Calling model_fn.\n",
      "INFO:tensorflow:Done calling model_fn.\n",
      "INFO:tensorflow:Starting evaluation at 2018-08-22-21:53:34\n",
      "INFO:tensorflow:Graph was finalized.\n",
      "INFO:tensorflow:Restoring parameters from /Users/huafengsheng/GitHub/training-data-analyst/courses/machine_learning/deepdive/03_tensorflow/taxi_trained/model.ckpt-1000\n",
      "INFO:tensorflow:Running local_init_op.\n",
      "INFO:tensorflow:Done running local_init_op.\n",
      "INFO:tensorflow:Finished evaluation at 2018-08-22-21:53:34\n",
      "INFO:tensorflow:Saving dict for global step 1000: average_loss = 187.2579, global_step = 1000, label/mean = 11.666428, loss = 311784.4, prediction/mean = 2.8076227\n",
      "INFO:tensorflow:Saving 'checkpoint_path' summary for global step 1000: /Users/huafengsheng/GitHub/training-data-analyst/courses/machine_learning/deepdive/03_tensorflow/taxi_trained/model.ckpt-1000\n",
      "INFO:tensorflow:Calling model_fn.\n",
      "INFO:tensorflow:Done calling model_fn.\n",
      "INFO:tensorflow:Signatures INCLUDED in export for Classify: None\n",
      "INFO:tensorflow:Signatures INCLUDED in export for Regress: None\n",
      "INFO:tensorflow:Signatures INCLUDED in export for Predict: ['predict']\n",
      "INFO:tensorflow:Signatures INCLUDED in export for Train: None\n",
      "INFO:tensorflow:Signatures INCLUDED in export for Eval: None\n",
      "INFO:tensorflow:Signatures EXCLUDED from export because they cannot be be served via TensorFlow Serving APIs:\n",
      "INFO:tensorflow:'serving_default' : Regression input must be a single string Tensor; got {'pickuplon': <tf.Tensor 'Placeholder:0' shape=(?,) dtype=float32>, 'pickuplat': <tf.Tensor 'Placeholder_1:0' shape=(?,) dtype=float32>, 'dropofflat': <tf.Tensor 'Placeholder_2:0' shape=(?,) dtype=float32>, 'dropofflon': <tf.Tensor 'Placeholder_3:0' shape=(?,) dtype=float32>, 'passengers': <tf.Tensor 'Placeholder_4:0' shape=(?,) dtype=float32>}\n",
      "INFO:tensorflow:'regression' : Regression input must be a single string Tensor; got {'pickuplon': <tf.Tensor 'Placeholder:0' shape=(?,) dtype=float32>, 'pickuplat': <tf.Tensor 'Placeholder_1:0' shape=(?,) dtype=float32>, 'dropofflat': <tf.Tensor 'Placeholder_2:0' shape=(?,) dtype=float32>, 'dropofflon': <tf.Tensor 'Placeholder_3:0' shape=(?,) dtype=float32>, 'passengers': <tf.Tensor 'Placeholder_4:0' shape=(?,) dtype=float32>}\n",
      "WARNING:tensorflow:Export includes no default signature!\n",
      "INFO:tensorflow:Restoring parameters from /Users/huafengsheng/GitHub/training-data-analyst/courses/machine_learning/deepdive/03_tensorflow/taxi_trained/model.ckpt-1000\n",
      "INFO:tensorflow:Assets added to graph.\n",
      "INFO:tensorflow:No assets to write.\n",
      "INFO:tensorflow:SavedModel written to: /Users/huafengsheng/GitHub/training-data-analyst/courses/machine_learning/deepdive/03_tensorflow/taxi_trained/export/exporter/temp-b'1534974814'/saved_model.pb\n",
      "INFO:tensorflow:Loss for final step: 61940.83.\n"
     ]
    }
   ],
   "source": [
    "%%bash\n",
    "# source ~/tensorflow/venv/bin/activate\n",
    "\n",
    "rm -rf taxifare.tar.gz taxi_trained\n",
    "export PYTHONPATH=${PYTHONPATH}:${PWD}/taxifare\n",
    "python -m trainer.task \\\n",
    "   --train_data_paths=\"${PWD}/taxi-train*\" \\\n",
    "   --eval_data_paths=${PWD}/taxi-valid.csv  \\\n",
    "   --output_dir=${PWD}/taxi_trained \\\n",
    "   --train_steps=1000 --job-dir=./tmp"
   ]
  },
  {
   "cell_type": "code",
   "execution_count": 17,
   "metadata": {},
   "outputs": [
    {
     "name": "stdout",
     "output_type": "stream",
     "text": [
      "1534974814\n"
     ]
    }
   ],
   "source": [
    "%%bash\n",
    "ls $PWD/taxi_trained/export/exporter/"
   ]
  },
  {
   "cell_type": "code",
   "execution_count": 18,
   "metadata": {},
   "outputs": [
    {
     "name": "stdout",
     "output_type": "stream",
     "text": [
      "Overwriting ./test.json\n"
     ]
    }
   ],
   "source": [
    "%%writefile ./test.json\n",
    "{\"pickuplon\": -73.885262,\"pickuplat\": 40.773008,\"dropofflon\": -73.987232,\"dropofflat\": 40.732403,\"passengers\": 2}"
   ]
  },
  {
   "cell_type": "code",
   "execution_count": 22,
   "metadata": {},
   "outputs": [
    {
     "name": "stderr",
     "output_type": "stream",
     "text": [
      "DEBUG: Running [gcloud.ml-engine.local.predict] with arguments: [--json-instances: \"./test.json\", --model-dir: \"/Users/huafengsheng/GitHub/training-data-analyst/courses/machine_learning/deepdive/03_tensorflow/taxi_trained/export/exporter/1534974814\", --verbosity: \"debug\"]\n",
      "DEBUG: (gcloud.ml-engine.local.predict) RuntimeError: Bad magic number in .pyc file\n",
      "Traceback (most recent call last):\n",
      "  File \"/Users/huafengsheng/exec -l /bin/bash/google-cloud-sdk/lib/googlecloudsdk/calliope/cli.py\", line 848, in Execute\n",
      "    resources = calliope_command.Run(cli=self, args=args)\n",
      "  File \"/Users/huafengsheng/exec -l /bin/bash/google-cloud-sdk/lib/googlecloudsdk/calliope/backend.py\", line 770, in Run\n",
      "    resources = command_instance.Run(args)\n",
      "  File \"/Users/huafengsheng/exec -l /bin/bash/google-cloud-sdk/lib/surface/ml_engine/local/predict.py\", line 76, in Run\n",
      "    framework=framework_flag)\n",
      "  File \"/Users/huafengsheng/exec -l /bin/bash/google-cloud-sdk/lib/googlecloudsdk/command_lib/ml_engine/local_utils.py\", line 101, in RunPredict\n",
      "    raise LocalPredictRuntimeError(err)\n",
      "LocalPredictRuntimeError: RuntimeError: Bad magic number in .pyc file\n",
      "\n",
      "ERROR: (gcloud.ml-engine.local.predict) RuntimeError: Bad magic number in .pyc file\n",
      "\n"
     ]
    }
   ],
   "source": [
    "%%bash\n",
    "# source ~/tensorflow/venv/bin/activate\n",
    "\n",
    "model_dir=$(ls ${PWD}/taxi_trained/export/exporter)\n",
    "gcloud ml-engine local predict \\\n",
    "    --model-dir=${PWD}/taxi_trained/export/exporter/${model_dir} \\\n",
    "    --json-instances=./test.json \\\n",
    "    --verbosity debug"
   ]
  },
  {
   "cell_type": "markdown",
   "metadata": {},
   "source": [
    "<h2> Running locally using gcloud </h2>"
   ]
  },
  {
   "cell_type": "code",
   "execution_count": 22,
   "metadata": {},
   "outputs": [
    {
     "name": "stderr",
     "output_type": "stream",
     "text": [
      "/usr/lib/python3.6/site-packages/h5py/__init__.py:36: FutureWarning: Conversion of the second argument of issubdtype from `float` to `np.floating` is deprecated. In future, it will be treated as `np.float64 == np.dtype(float).type`.\n",
      "  from ._conv import register_converters as _register_converters\n",
      "INFO:tensorflow:TF_CONFIG environment variable: {'environment': 'cloud', 'cluster': {}, 'job': {'args': ['--train_data_paths=/home/chet/Desktop/Alfred/training-data-analyst/courses/machine_learning/deepdive/03_tensorflow/taxi-train.csv', '--eval_data_paths=/home/chet/Desktop/Alfred/training-data-analyst/courses/machine_learning/deepdive/03_tensorflow/taxi-valid.csv', '--train_steps=1000', '--output_dir=/home/chet/Desktop/Alfred/training-data-analyst/courses/machine_learning/deepdive/03_tensorflow/taxi_trained'], 'job_name': 'trainer.task'}, 'task': {}}\n",
      "INFO:tensorflow:Using default config.\n",
      "INFO:tensorflow:Using config: {'_model_dir': '/home/chet/Desktop/Alfred/training-data-analyst/courses/machine_learning/deepdive/03_tensorflow/taxi_trained', '_tf_random_seed': None, '_save_summary_steps': 100, '_save_checkpoints_steps': None, '_save_checkpoints_secs': 600, '_session_config': None, '_keep_checkpoint_max': 5, '_keep_checkpoint_every_n_hours': 10000, '_log_step_count_steps': 100, '_train_distribute': None, '_device_fn': None, '_service': None, '_cluster_spec': <tensorflow.python.training.server_lib.ClusterSpec object at 0x7faa4a55c2b0>, '_task_type': 'worker', '_task_id': 0, '_global_id_in_cluster': 0, '_master': '', '_evaluation_master': '', '_is_chief': True, '_num_ps_replicas': 0, '_num_worker_replicas': 1}\n",
      "INFO:tensorflow:Running training and evaluation locally (non-distributed).\n",
      "INFO:tensorflow:Start train and evaluate loop. The evaluate will happen after every checkpoint. Checkpoint frequency is determined based on RunConfig arguments: save_checkpoints_steps None or save_checkpoints_secs 600.\n",
      "INFO:tensorflow:Calling model_fn.\n",
      "INFO:tensorflow:Done calling model_fn.\n",
      "INFO:tensorflow:Create CheckpointSaverHook.\n",
      "INFO:tensorflow:Graph was finalized.\n",
      "2018-08-22 15:06:05.726518: I tensorflow/core/platform/cpu_feature_guard.cc:141] Your CPU supports instructions that this TensorFlow binary was not compiled to use: AVX2 FMA\n",
      "INFO:tensorflow:Running local_init_op.\n",
      "INFO:tensorflow:Done running local_init_op.\n",
      "INFO:tensorflow:Saving checkpoints for 0 into /home/chet/Desktop/Alfred/training-data-analyst/courses/machine_learning/deepdive/03_tensorflow/taxi_trained/model.ckpt.\n",
      "INFO:tensorflow:loss = 347395.06, step = 1\n",
      "INFO:tensorflow:global_step/sec: 97.8597\n",
      "INFO:tensorflow:loss = 37785.504, step = 101 (1.022 sec)\n",
      "INFO:tensorflow:global_step/sec: 91.7526\n",
      "INFO:tensorflow:loss = 41438.7, step = 201 (1.090 sec)\n",
      "INFO:tensorflow:global_step/sec: 107.101\n",
      "INFO:tensorflow:loss = 44783.492, step = 301 (0.934 sec)\n",
      "INFO:tensorflow:global_step/sec: 96.1598\n",
      "INFO:tensorflow:loss = 48712.574, step = 401 (1.040 sec)\n",
      "INFO:tensorflow:global_step/sec: 100.971\n",
      "INFO:tensorflow:loss = 42682.67, step = 501 (0.991 sec)\n",
      "INFO:tensorflow:global_step/sec: 104.319\n",
      "INFO:tensorflow:loss = 45271.54, step = 601 (0.958 sec)\n",
      "INFO:tensorflow:global_step/sec: 99.2824\n",
      "INFO:tensorflow:loss = 40356.29, step = 701 (1.007 sec)\n",
      "INFO:tensorflow:global_step/sec: 106.652\n",
      "INFO:tensorflow:loss = 30156.254, step = 801 (0.938 sec)\n",
      "INFO:tensorflow:global_step/sec: 97.1893\n",
      "INFO:tensorflow:loss = 50037.004, step = 901 (1.029 sec)\n",
      "INFO:tensorflow:Saving checkpoints for 1000 into /home/chet/Desktop/Alfred/training-data-analyst/courses/machine_learning/deepdive/03_tensorflow/taxi_trained/model.ckpt.\n",
      "INFO:tensorflow:Calling model_fn.\n",
      "INFO:tensorflow:Done calling model_fn.\n",
      "INFO:tensorflow:Starting evaluation at 2018-08-22-14:06:16\n",
      "INFO:tensorflow:Graph was finalized.\n",
      "INFO:tensorflow:Restoring parameters from /home/chet/Desktop/Alfred/training-data-analyst/courses/machine_learning/deepdive/03_tensorflow/taxi_trained/model.ckpt-1000\n",
      "INFO:tensorflow:Running local_init_op.\n",
      "INFO:tensorflow:Done running local_init_op.\n",
      "INFO:tensorflow:Finished evaluation at 2018-08-22-14:06:16\n",
      "INFO:tensorflow:Saving dict for global step 1000: average_loss = 109.29462, global_step = 1000, label/mean = 11.666428, loss = 181975.53, prediction/mean = 10.97981\n",
      "INFO:tensorflow:Saving 'checkpoint_path' summary for global step 1000: /home/chet/Desktop/Alfred/training-data-analyst/courses/machine_learning/deepdive/03_tensorflow/taxi_trained/model.ckpt-1000\n",
      "INFO:tensorflow:Calling model_fn.\n",
      "INFO:tensorflow:Done calling model_fn.\n",
      "INFO:tensorflow:Signatures INCLUDED in export for Classify: None\n",
      "INFO:tensorflow:Signatures INCLUDED in export for Regress: None\n",
      "INFO:tensorflow:Signatures INCLUDED in export for Predict: ['predict']\n",
      "INFO:tensorflow:Signatures INCLUDED in export for Train: None\n",
      "INFO:tensorflow:Signatures INCLUDED in export for Eval: None\n",
      "INFO:tensorflow:Signatures EXCLUDED from export because they cannot be be served via TensorFlow Serving APIs:\n",
      "INFO:tensorflow:'serving_default' : Regression input must be a single string Tensor; got {'pickuplon': <tf.Tensor 'Placeholder:0' shape=(?,) dtype=float32>, 'pickuplat': <tf.Tensor 'Placeholder_1:0' shape=(?,) dtype=float32>, 'dropofflat': <tf.Tensor 'Placeholder_2:0' shape=(?,) dtype=float32>, 'dropofflon': <tf.Tensor 'Placeholder_3:0' shape=(?,) dtype=float32>, 'passengers': <tf.Tensor 'Placeholder_4:0' shape=(?,) dtype=float32>}\n",
      "INFO:tensorflow:'regression' : Regression input must be a single string Tensor; got {'pickuplon': <tf.Tensor 'Placeholder:0' shape=(?,) dtype=float32>, 'pickuplat': <tf.Tensor 'Placeholder_1:0' shape=(?,) dtype=float32>, 'dropofflat': <tf.Tensor 'Placeholder_2:0' shape=(?,) dtype=float32>, 'dropofflon': <tf.Tensor 'Placeholder_3:0' shape=(?,) dtype=float32>, 'passengers': <tf.Tensor 'Placeholder_4:0' shape=(?,) dtype=float32>}\n",
      "WARNING:tensorflow:Export includes no default signature!\n",
      "INFO:tensorflow:Restoring parameters from /home/chet/Desktop/Alfred/training-data-analyst/courses/machine_learning/deepdive/03_tensorflow/taxi_trained/model.ckpt-1000\n",
      "INFO:tensorflow:Assets added to graph.\n",
      "INFO:tensorflow:No assets to write.\n",
      "INFO:tensorflow:SavedModel written to: /home/chet/Desktop/Alfred/training-data-analyst/courses/machine_learning/deepdive/03_tensorflow/taxi_trained/export/exporter/temp-b'1534946776'/saved_model.pb\n",
      "INFO:tensorflow:Loss for final step: 32394.613.\n"
     ]
    }
   ],
   "source": [
    "%%bash\n",
    "source ~/tensorflow/venv/bin/activate\n",
    "\n",
    "rm -rf taxifare.tar.gz taxi_trained\n",
    "gcloud ml-engine local train \\\n",
    "   --module-name=trainer.task \\\n",
    "   --package-path=${PWD}/taxifare/trainer \\\n",
    "   -- \\\n",
    "   --train_data_paths=${PWD}/taxi-train.csv \\\n",
    "   --eval_data_paths=${PWD}/taxi-valid.csv  \\\n",
    "   --train_steps=1000 \\\n",
    "   --output_dir=${PWD}/taxi_trained "
   ]
  },
  {
   "cell_type": "markdown",
   "metadata": {},
   "source": [
    "When I ran it (due to random seeds, your results will be different), the ```average_loss``` (Mean Squared Error) on the evaluation dataset was 187, meaning that the RMSE was around 13."
   ]
  },
  {
   "cell_type": "code",
   "execution_count": 30,
   "metadata": {
    "collapsed": true
   },
   "outputs": [],
   "source": [
    "# from google.datalab.ml import TensorBoard\n",
    "# TensorBoard().start('{}/taxi_trained'.format(REPO))"
   ]
  },
  {
   "cell_type": "code",
   "execution_count": 31,
   "metadata": {
    "collapsed": true
   },
   "outputs": [],
   "source": [
    "# for pid in TensorBoard.list()['pid']:\n",
    "#     TensorBoard().stop(pid)\n",
    "#     print('Stopped TensorBoard with pid {}'.format(pid))"
   ]
  },
  {
   "cell_type": "markdown",
   "metadata": {},
   "source": [
    "If the above step (to stop TensorBoard) appears stalled, just move on to the next step. You don't need to wait for it to return."
   ]
  },
  {
   "cell_type": "code",
   "execution_count": 23,
   "metadata": {},
   "outputs": [
    {
     "name": "stdout",
     "output_type": "stream",
     "text": [
      "checkpoint\t\t\t\tmodel.ckpt-0.index\r\n",
      "eval\t\t\t\t\tmodel.ckpt-0.meta\r\n",
      "events.out.tfevents.1534946765.chet-pc\tmodel.ckpt-1000.data-00000-of-00001\r\n",
      "export\t\t\t\t\tmodel.ckpt-1000.index\r\n",
      "graph.pbtxt\t\t\t\tmodel.ckpt-1000.meta\r\n",
      "model.ckpt-0.data-00000-of-00001\r\n"
     ]
    }
   ],
   "source": [
    "!ls $PWD/taxi_trained"
   ]
  },
  {
   "cell_type": "markdown",
   "metadata": {},
   "source": [
    "<h2> Submit training job using gcloud </h2>\n",
    "\n",
    "First copy the training data to the cloud.  Then, launch a training job.\n",
    "\n",
    "After you submit the job, go to the cloud console (http://console.cloud.google.com) and select <b>Machine Learning | Jobs</b> to monitor progress.  \n",
    "\n",
    "<b>Note:</b> Don't be concerned if the notebook stalls (with a blue progress bar) or returns with an error about being unable to refresh auth tokens. This is a long-lived Cloud job and work is going on in the cloud.  Use the Cloud Console link (above) to monitor the job."
   ]
  },
  {
   "cell_type": "code",
   "execution_count": 24,
   "metadata": {},
   "outputs": [
    {
     "name": "stdout",
     "output_type": "stream",
     "text": [
      "chet-ml-model\n"
     ]
    },
    {
     "name": "stderr",
     "output_type": "stream",
     "text": [
      "Removing gs://chet-ml-model/taxifare/smallinput/taxi-test.csv#1534704765522398...\n",
      "Removing gs://chet-ml-model/taxifare/smallinput/taxi-train.csv#1534704765664613...\n",
      "Removing gs://chet-ml-model/taxifare/smallinput/taxi-valid.csv#1534704765531825...\n",
      "Removing gs://chet-ml-model/taxifare/smallinput/taxi_trained/#1534705472018542...\n",
      "Removing gs://chet-ml-model/taxifare/smallinput/taxi_trained/eval/#1534704886358732...\n",
      "Removing gs://chet-ml-model/taxifare/smallinput/taxi_trained/eval/events.out.tfevents.1534704886.cmle-training-8787293824596915664#1534705475094125...\n",
      "Removing gs://chet-ml-model/taxifare/smallinput/taxi_trained/events.out.tfevents.1534704879.cmle-training-8787293824596915664#1534705480081204...\n",
      "Removing gs://chet-ml-model/taxifare/smallinput/taxi_trained/checkpoint#1534705473213152...\n",
      "Removing gs://chet-ml-model/taxifare/smallinput/taxi_trained/export/exporter/#1534704888414304...\n",
      "Removing gs://chet-ml-model/taxifare/smallinput/taxi_trained/export/#1534704888254710...\n",
      "Removing gs://chet-ml-model/taxifare/smallinput/taxi_trained/export/exporter/1534704887/#1534704891604563...\n",
      "Removing gs://chet-ml-model/taxifare/smallinput/taxi_trained/export/exporter/1534704887/saved_model.pb#1534704891736702...\n",
      "Removing gs://chet-ml-model/taxifare/smallinput/taxi_trained/export/exporter/1534704887/variables/#1534704891891399...\n",
      "Removing gs://chet-ml-model/taxifare/smallinput/taxi_trained/export/exporter/1534704887/variables/variables.data-00000-of-00001#1534704892020623...\n",
      "Removing gs://chet-ml-model/taxifare/smallinput/taxi_trained/export/exporter/1534704887/variables/variables.index#1534704892170127...\n",
      "Removing gs://chet-ml-model/taxifare/smallinput/taxi_trained/export/exporter/1534705475/#1534705479105585...\n",
      "Removing gs://chet-ml-model/taxifare/smallinput/taxi_trained/export/exporter/1534705475/saved_model.pb#1534705479247491...\n",
      "Removing gs://chet-ml-model/taxifare/smallinput/taxi_trained/export/exporter/1534705475/variables/#1534705479408091...\n",
      "Removing gs://chet-ml-model/taxifare/smallinput/taxi_trained/export/exporter/1534705475/variables/variables.data-00000-of-00001#1534705479564249...\n",
      "Removing gs://chet-ml-model/taxifare/smallinput/taxi_trained/export/exporter/1534705475/variables/variables.index#1534705479737857...\n",
      "Removing gs://chet-ml-model/taxifare/smallinput/taxi_trained/graph.pbtxt#1534704880685800...\n",
      "Removing gs://chet-ml-model/taxifare/smallinput/taxi_trained/model.ckpt-10000.index#1534705472590876...\n",
      "Removing gs://chet-ml-model/taxifare/smallinput/taxi_trained/model.ckpt-1.data-00000-of-00001#1534704883215918...\n",
      "Removing gs://chet-ml-model/taxifare/smallinput/taxi_trained/model.ckpt-10000.meta#1534705473724054...\n",
      "Removing gs://chet-ml-model/taxifare/smallinput/taxi_trained/model.ckpt-1.index#1534704883469065...\n",
      "Removing gs://chet-ml-model/taxifare/smallinput/taxi_trained/model.ckpt-1.meta#1534704884616849...\n",
      "Removing gs://chet-ml-model/taxifare/smallinput/taxi_trained/model.ckpt-10000.data-00000-of-00001#1534705472303361...\n",
      "/ [1/27 objects]   3% Done                                                      \r",
      "/ [2/27 objects]   7% Done                                                      \r",
      "/ [3/27 objects]  11% Done                                                      \r",
      "/ [4/27 objects]  14% Done                                                      \r",
      "/ [5/27 objects]  18% Done                                                      \r",
      "/ [6/27 objects]  22% Done                                                      \r",
      "/ [7/27 objects]  25% Done                                                      \r",
      "/ [8/27 objects]  29% Done                                                      \r",
      "/ [9/27 objects]  33% Done                                                      \r",
      "/ [10/27 objects]  37% Done                                                     \r",
      "/ [11/27 objects]  40% Done                                                     \r",
      "/ [12/27 objects]  44% Done                                                     \r",
      "/ [13/27 objects]  48% Done                                                     \r",
      "/ [14/27 objects]  51% Done                                                     \r",
      "/ [15/27 objects]  55% Done                                                     \r",
      "/ [16/27 objects]  59% Done                                                     \r",
      "/ [17/27 objects]  62% Done                                                     \r",
      "/ [18/27 objects]  66% Done                                                     \r",
      "/ [19/27 objects]  70% Done                                                     \r",
      "/ [20/27 objects]  74% Done                                                     \r",
      "/ [21/27 objects]  77% Done                                                     \r",
      "/ [22/27 objects]  81% Done                                                     \r",
      "/ [23/27 objects]  85% Done                                                     \r",
      "/ [24/27 objects]  88% Done                                                     \r",
      "/ [25/27 objects]  92% Done                                                     \r",
      "/ [26/27 objects]  96% Done                                                     \r",
      "/ [27/27 objects] 100% Done                                                     \r\n",
      "Operation completed over 27 objects.                                             \n",
      "Copying file:///home/chet/Desktop/Alfred/training-data-analyst/courses/machine_learning/deepdive/03_tensorflow/taxi-valid.csv [Content-Type=text/csv]...\n",
      "Copying file:///home/chet/Desktop/Alfred/training-data-analyst/courses/machine_learning/deepdive/03_tensorflow/taxi-test.csv [Content-Type=text/csv]...\n",
      "Copying file:///home/chet/Desktop/Alfred/training-data-analyst/courses/machine_learning/deepdive/03_tensorflow/taxi-train.csv [Content-Type=text/csv]...\n",
      "/ [0/3 files][    0.0 B/580.6 KiB]   0% Done                                    \r",
      "/ [0/3 files][    0.0 B/580.6 KiB]   0% Done                                    \r",
      "/ [0/3 files][    0.0 B/580.6 KiB]   0% Done                                    \r",
      "/ [1/3 files][580.6 KiB/580.6 KiB]  99% Done                                    \r",
      "/ [2/3 files][580.6 KiB/580.6 KiB]  99% Done                                    \r",
      "/ [3/3 files][580.6 KiB/580.6 KiB] 100% Done                                    \r\n",
      "Operation completed over 3 objects/580.6 KiB.                                    \n"
     ]
    }
   ],
   "source": [
    "%%bash\n",
    "echo $BUCKET\n",
    "gsutil -m rm -rf gs://${BUCKET}/taxifare/smallinput/\n",
    "gsutil -m cp ${PWD}/*.csv gs://${BUCKET}/taxifare/smallinput/"
   ]
  },
  {
   "cell_type": "code",
   "execution_count": 25,
   "metadata": {},
   "outputs": [
    {
     "name": "stdout",
     "output_type": "stream",
     "text": [
      "gs://chet-ml-model/taxifare/smallinput/taxi_trained europe-west1 lab3a_180822_140634\n",
      "jobId: lab3a_180822_140634\n",
      "state: QUEUED\n"
     ]
    },
    {
     "name": "stderr",
     "output_type": "stream",
     "text": [
      "CommandException: 1 files/objects could not be removed.\n",
      "Job [lab3a_180822_140634] submitted successfully.\n",
      "Your job is still active. You may view the status of your job with the command\n",
      "\n",
      "  $ gcloud ml-engine jobs describe lab3a_180822_140634\n",
      "\n",
      "or continue streaming the logs with the command\n",
      "\n",
      "  $ gcloud ml-engine jobs stream-logs lab3a_180822_140634\n"
     ]
    }
   ],
   "source": [
    "%%bash\n",
    "source ~/tensorflow/venv/bin/activate\n",
    "\n",
    "OUTDIR=gs://${BUCKET}/taxifare/smallinput/taxi_trained\n",
    "JOBNAME=lab3a_$(date -u +%y%m%d_%H%M%S)\n",
    "echo $OUTDIR $REGION $JOBNAME\n",
    "gsutil -m rm -rf $OUTDIR\n",
    "gcloud ml-engine jobs submit training $JOBNAME \\\n",
    "   --region=$REGION \\\n",
    "   --module-name=trainer.task \\\n",
    "   --package-path=${PWD}/taxifare/trainer \\\n",
    "   --job-dir=$OUTDIR \\\n",
    "   --staging-bucket=gs://$BUCKET \\\n",
    "   --scale-tier=BASIC \\\n",
    "   --runtime-version=$TFVERSION \\\n",
    "   -- \\\n",
    "   --train_data_paths=\"gs://${BUCKET}/taxifare/smallinput/taxi-train*\" \\\n",
    "   --eval_data_paths=\"gs://${BUCKET}/taxifare/smallinput/taxi-valid*\"  \\\n",
    "   --output_dir=$OUTDIR \\\n",
    "   --train_steps=10000"
   ]
  },
  {
   "cell_type": "markdown",
   "metadata": {},
   "source": [
    "Don't be concerned if the notebook appears stalled (with a blue progress bar) or returns with an error about being unable to refresh auth tokens. This is a long-lived Cloud job and work is going on in the cloud. \n",
    "\n",
    "<b>Use the Cloud Console link to monitor the job and do NOT proceed until the job is done.</b>"
   ]
  },
  {
   "cell_type": "markdown",
   "metadata": {},
   "source": [
    "<h2> Deploy model </h2>\n",
    "\n",
    "Find out the actual name of the subdirectory where the model is stored and use it to deploy the model.  Deploying model will take up to <b>5 minutes</b>."
   ]
  },
  {
   "cell_type": "code",
   "execution_count": 26,
   "metadata": {},
   "outputs": [
    {
     "name": "stderr",
     "output_type": "stream",
     "text": [
      "CommandException: One or more URLs matched no objects.\n"
     ]
    }
   ],
   "source": [
    "%%bash\n",
    "gsutil ls gs://${BUCKET}/taxifare/smallinput/taxi_trained/export/exporter"
   ]
  },
  {
   "cell_type": "code",
   "execution_count": 27,
   "metadata": {},
   "outputs": [
    {
     "name": "stdout",
     "output_type": "stream",
     "text": [
      "Run these commands one-by-one (the very first time, you'll create a model and then create a version)\n"
     ]
    },
    {
     "name": "stderr",
     "output_type": "stream",
     "text": [
      "CommandException: One or more URLs matched no objects.\n",
      "ERROR: (gcloud.ml-engine.models.create) Resource in project [cloudiq-treepie-development] is the subject of a conflict: Field: model.name Error: A model with the same name already exists.\n",
      "- '@type': type.googleapis.com/google.rpc.BadRequest\n",
      "  fieldViolations:\n",
      "  - description: A model with the same name already exists.\n",
      "    field: model.name\n",
      "ERROR: (gcloud.ml-engine.versions.create) argument --origin: expected one argument\n",
      "Usage: gcloud ml-engine versions create VERSION --model=MODEL [optional flags]\n",
      "  optional flags may be  --async | --config | --description | --framework |\n",
      "                         --help | --labels | --origin | --python-version |\n",
      "                         --runtime-version | --staging-bucket\n",
      "\n",
      "For detailed information on this command and its flags, run:\n",
      "  gcloud ml-engine versions create --help\n"
     ]
    }
   ],
   "source": [
    "%%bash\n",
    "MODEL_NAME=\"taxifare\"\n",
    "MODEL_VERSION=\"v1\"\n",
    "MODEL_LOCATION=$(gsutil ls gs://${BUCKET}/taxifare/smallinput/taxi_trained/export/exporter | tail -1)\n",
    "echo \"Run these commands one-by-one (the very first time, you'll create a model and then create a version)\"\n",
    "#gcloud ml-engine versions delete ${MODEL_VERSION} --model ${MODEL_NAME}\n",
    "#gcloud ml-engine models delete ${MODEL_NAME}\n",
    "gcloud ml-engine models create ${MODEL_NAME} --regions $REGION\n",
    "gcloud ml-engine versions create ${MODEL_VERSION} --model ${MODEL_NAME} --origin ${MODEL_LOCATION} --runtime-version $TFVERSION"
   ]
  },
  {
   "cell_type": "markdown",
   "metadata": {},
   "source": [
    "<h2> Prediction </h2>"
   ]
  },
  {
   "cell_type": "code",
   "execution_count": 32,
   "metadata": {},
   "outputs": [
    {
     "name": "stdout",
     "output_type": "stream",
     "text": [
      "PREDICTIONS\n",
      "[2.9261889457702637]\n"
     ]
    }
   ],
   "source": [
    "%%bash\n",
    "gcloud ml-engine predict --model=taxifare --version=v1 --json-instances=./test.json"
   ]
  },
  {
   "cell_type": "code",
   "execution_count": null,
   "metadata": {
    "collapsed": true
   },
   "outputs": [],
   "source": [
    "from googleapiclient import discovery\n",
    "from oauth2client.client import GoogleCredentials\n",
    "import json\n",
    "\n",
    "credentials = GoogleCredentials.get_application_default()\n",
    "api = discovery.build('ml', 'v1', credentials=credentials,\n",
    "            discoveryServiceUrl='https://storage.googleapis.com/cloud-ml/discovery/ml_v1_discovery.json')\n",
    "\n",
    "request_data = {'instances':\n",
    "  [\n",
    "      {\n",
    "        'pickuplon': -73.885262,\n",
    "        'pickuplat': 40.773008,\n",
    "        'dropofflon': -73.987232,\n",
    "        'dropofflat': 40.732403,\n",
    "        'passengers': 2,\n",
    "      }\n",
    "  ]\n",
    "}\n",
    "\n",
    "parent = 'projects/%s/models/%s/versions/%s' % (PROJECT, 'taxifare', 'v1')\n",
    "response = api.projects().predict(body=request_data, name=parent).execute()\n",
    "print \"response={0}\".format(response)"
   ]
  },
  {
   "cell_type": "markdown",
   "metadata": {},
   "source": [
    "<h2> Train on larger dataset </h2>\n",
    "\n",
    "I have already followed the steps below and the files are already available. <b> You don't need to do the steps in this comment. </b> In the next chapter (on feature engineering), we will avoid all this manual processing by using Cloud Dataflow.\n",
    "\n",
    "Go to http://bigquery.cloud.google.com/ and type the query:\n",
    "<pre>\n",
    "SELECT\n",
    "  (tolls_amount + fare_amount) AS fare_amount,\n",
    "  pickup_longitude AS pickuplon,\n",
    "  pickup_latitude AS pickuplat,\n",
    "  dropoff_longitude AS dropofflon,\n",
    "  dropoff_latitude AS dropofflat,\n",
    "  passenger_count*1.0 AS passengers,\n",
    "  'nokeyindata' AS key\n",
    "FROM\n",
    "  [nyc-tlc:yellow.trips]\n",
    "WHERE\n",
    "  trip_distance > 0\n",
    "  AND fare_amount >= 2.5\n",
    "  AND pickup_longitude > -78\n",
    "  AND pickup_longitude < -70\n",
    "  AND dropoff_longitude > -78\n",
    "  AND dropoff_longitude < -70\n",
    "  AND pickup_latitude > 37\n",
    "  AND pickup_latitude < 45\n",
    "  AND dropoff_latitude > 37\n",
    "  AND dropoff_latitude < 45\n",
    "  AND passenger_count > 0\n",
    "  AND ABS(HASH(pickup_datetime)) % 1000 == 1\n",
    "</pre>\n",
    "\n",
    "Note that this is now 1,000,000 rows (i.e. 100x the original dataset).  Export this to CSV using the following steps (Note that <b>I have already done this and made the resulting GCS data publicly available</b>, so you don't need to do it.):\n",
    "<ol>\n",
    "<li> Click on the \"Save As Table\" button and note down the name of the dataset and table.\n",
    "<li> On the BigQuery console, find the newly exported table in the left-hand-side menu, and click on the name.\n",
    "<li> Click on \"Export Table\"\n",
    "<li> Supply your bucket name and give it the name train.csv (for example: gs://cloud-training-demos-ml/taxifare/ch3/train.csv). Note down what this is.  Wait for the job to finish (look at the \"Job History\" on the left-hand-side menu)\n",
    "<li> In the query above, change the final \"== 1\" to \"== 2\" and export this to Cloud Storage as valid.csv (e.g.  gs://cloud-training-demos-ml/taxifare/ch3/valid.csv)\n",
    "<li> Download the two files, remove the header line and upload it back to GCS.\n",
    "</ol>\n",
    "\n",
    "<p/>\n",
    "<p/>\n",
    "\n",
    "<h2> Run Cloud training on 1-million row dataset </h2>\n",
    "\n",
    "This took 60 minutes and uses as input 1-million rows.  The model is exactly the same as above. The only changes are to the input (to use the larger dataset) and to the Cloud MLE tier (to use STANDARD_1 instead of BASIC -- STANDARD_1 is approximately 10x more powerful than BASIC).  At the end of the training the loss was 32, but the RMSE (calculated on the validation dataset) was stubbornly at 9.03. So, simply adding more data doesn't help."
   ]
  },
  {
   "cell_type": "code",
   "execution_count": null,
   "metadata": {
    "collapsed": true
   },
   "outputs": [],
   "source": [
    "%%bash\n",
    "\n",
    "XXXXX  this takes 60 minutes. if you are sure you want to run it, then remove this line.\n",
    "\n",
    "OUTDIR=gs://${BUCKET}/taxifare/ch3/taxi_trained\n",
    "JOBNAME=lab3a_$(date -u +%y%m%d_%H%M%S)\n",
    "CRS_BUCKET=cloud-training-demos # use the already exported data\n",
    "echo $OUTDIR $REGION $JOBNAME\n",
    "gsutil -m rm -rf $OUTDIR\n",
    "gcloud ml-engine jobs submit training $JOBNAME \\\n",
    "   --region=$REGION \\\n",
    "   --module-name=trainer.task \\\n",
    "   --package-path=${PWD}/taxifare/trainer \\\n",
    "   --job-dir=$OUTDIR \\\n",
    "   --staging-bucket=gs://$BUCKET \\\n",
    "   --scale-tier=STANDARD_1 \\\n",
    "   --runtime-version=$TFVERSION \\\n",
    "   -- \\\n",
    "   --train_data_paths=\"gs://${CRS_BUCKET}/taxifare/ch3/train.csv\" \\\n",
    "   --eval_data_paths=\"gs://${CRS_BUCKET}/taxifare/ch3/valid.csv\"  \\\n",
    "   --output_dir=$OUTDIR \\\n",
    "   --train_steps=100000"
   ]
  },
  {
   "cell_type": "markdown",
   "metadata": {},
   "source": [
    "Copyright 2016 Google Inc. Licensed under the Apache License, Version 2.0 (the \"License\"); you may not use this file except in compliance with the License. You may obtain a copy of the License at http://www.apache.org/licenses/LICENSE-2.0 Unless required by applicable law or agreed to in writing, software distributed under the License is distributed on an \"AS IS\" BASIS, WITHOUT WARRANTIES OR CONDITIONS OF ANY KIND, either express or implied. See the License for the specific language governing permissions and limitations under the License"
   ]
  },
  {
   "cell_type": "code",
   "execution_count": null,
   "metadata": {
    "collapsed": true
   },
   "outputs": [],
   "source": []
  }
 ],
 "metadata": {
  "kernelspec": {
   "display_name": "Python 3 (tf)",
   "language": "python",
   "name": "tf_python3"
  },
  "language_info": {
   "codemirror_mode": {
    "name": "ipython",
    "version": 3
   },
   "file_extension": ".py",
   "mimetype": "text/x-python",
   "name": "python",
   "nbconvert_exporter": "python",
   "pygments_lexer": "ipython3",
   "version": "3.6.1"
  },
  "toc": {
   "nav_menu": {},
   "number_sections": true,
   "sideBar": true,
   "skip_h1_title": false,
   "toc_cell": false,
   "toc_position": {},
   "toc_section_display": true,
   "toc_window_display": true
  }
 },
 "nbformat": 4,
 "nbformat_minor": 1
}
